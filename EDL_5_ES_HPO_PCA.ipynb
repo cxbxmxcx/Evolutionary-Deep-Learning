{
  "nbformat": 4,
  "nbformat_minor": 0,
  "metadata": {
    "colab": {
      "name": "EDL_5_ES_HPO_PCA.ipynb",
      "provenance": [],
      "collapsed_sections": [],
      "toc_visible": true,
      "authorship_tag": "ABX9TyPXpknpvouaDrfkVtO/4PX3",
      "include_colab_link": true
    },
    "kernelspec": {
      "name": "python3",
      "display_name": "Python 3"
    },
    "accelerator": "GPU"
  },
  "cells": [
    {
      "cell_type": "markdown",
      "metadata": {
        "id": "view-in-github",
        "colab_type": "text"
      },
      "source": [
        "<a href=\"https://colab.research.google.com/github/cxbxmxcx/Evolutionary-Deep-Learning/blob/main/EDL_5_ES_HPO_PCA.ipynb\" target=\"_parent\"><img src=\"https://colab.research.google.com/assets/colab-badge.svg\" alt=\"Open In Colab\"/></a>"
      ]
    },
    {
      "cell_type": "markdown",
      "metadata": {
        "id": "7eo9h5KA5UPe"
      },
      "source": [
        "# Setup"
      ]
    },
    {
      "cell_type": "code",
      "metadata": {
        "colab": {
          "base_uri": "https://localhost:8080/"
        },
        "id": "jpHn_-RfV0_n",
        "outputId": "b8c7f241-ff6f-4edb-cab4-990d5757962f"
      },
      "source": [
        "#@title Install DEAP\n",
        "!pip install deap --quiet"
      ],
      "execution_count": 2,
      "outputs": [
        {
          "output_type": "stream",
          "text": [
            "\u001b[?25l\r\u001b[K     |██                              | 10kB 26.6MB/s eta 0:00:01\r\u001b[K     |████▏                           | 20kB 26.1MB/s eta 0:00:01\r\u001b[K     |██████▏                         | 30kB 18.0MB/s eta 0:00:01\r\u001b[K     |████████▎                       | 40kB 13.1MB/s eta 0:00:01\r\u001b[K     |██████████▍                     | 51kB 14.3MB/s eta 0:00:01\r\u001b[K     |████████████▍                   | 61kB 16.0MB/s eta 0:00:01\r\u001b[K     |██████████████▌                 | 71kB 13.0MB/s eta 0:00:01\r\u001b[K     |████████████████▋               | 81kB 12.6MB/s eta 0:00:01\r\u001b[K     |██████████████████▋             | 92kB 13.3MB/s eta 0:00:01\r\u001b[K     |████████████████████▊           | 102kB 13.8MB/s eta 0:00:01\r\u001b[K     |██████████████████████▉         | 112kB 13.8MB/s eta 0:00:01\r\u001b[K     |████████████████████████▉       | 122kB 13.8MB/s eta 0:00:01\r\u001b[K     |███████████████████████████     | 133kB 13.8MB/s eta 0:00:01\r\u001b[K     |█████████████████████████████   | 143kB 13.8MB/s eta 0:00:01\r\u001b[K     |███████████████████████████████ | 153kB 13.8MB/s eta 0:00:01\r\u001b[K     |████████████████████████████████| 163kB 13.8MB/s \n",
            "\u001b[?25h"
          ],
          "name": "stdout"
        }
      ]
    },
    {
      "cell_type": "code",
      "metadata": {
        "id": "FslekLiVp_Il"
      },
      "source": [
        "#@title Defining Imports\n",
        "#numpy\n",
        "import numpy as np\n",
        "#DEAP\n",
        "from deap import algorithms\n",
        "from deap import base\n",
        "from deap import benchmarks\n",
        "from deap import creator\n",
        "from deap import tools\n",
        "#PyTorch\n",
        "import torch\n",
        "import torch.nn as nn\n",
        "from torch.autograd import Variable\n",
        "import torch.nn.functional as F\n",
        "import torch.optim as optim\n",
        "from torch.utils.data import TensorDataset, DataLoader\n",
        "#SkLearn\n",
        "from sklearn.decomposition import PCA\n",
        "#plotting\n",
        "from matplotlib import pyplot as plt\n",
        "from matplotlib import cm\n",
        "from IPython.display import clear_output\n",
        "#utils\n",
        "import random\n",
        "import math\n",
        "import array\n",
        "import time"
      ],
      "execution_count": 3,
      "outputs": []
    },
    {
      "cell_type": "code",
      "metadata": {
        "colab": {
          "base_uri": "https://localhost:8080/",
          "height": 286
        },
        "id": "MQCdK2oWJlid",
        "outputId": "67d39a1c-421a-46a8-a50f-f2a881818edc"
      },
      "source": [
        "#@title Setup Target Function and Data\n",
        "def function(x):\n",
        "  return (2*x + 3*x**2 + 4*x**3 + 5*x**4 + 6*x**5 + 10) \n",
        "\n",
        "data_min = -5\n",
        "data_max = 5\n",
        "data_step = .5\n",
        "Xi = np.reshape(np.arange(data_min, data_max, data_step), (-1, 1))\n",
        "yi = function(Xi)\n",
        "inputs = Xi.shape[1]\n",
        "yi = yi.reshape(-1, 1)\n",
        "plt.plot(Xi, yi, 'o', color='black')"
      ],
      "execution_count": 4,
      "outputs": [
        {
          "output_type": "execute_result",
          "data": {
            "text/plain": [
              "[<matplotlib.lines.Line2D at 0x7f480af545d0>]"
            ]
          },
          "metadata": {
            "tags": []
          },
          "execution_count": 4
        },
        {
          "output_type": "display_data",
          "data": {
            "image/png": "[encoded data removed]",
            "text/plain": [
              "<Figure size 432x288 with 1 Axes>"
            ]
          },
          "metadata": {
            "tags": [],
            "needs_background": "light"
          }
        }
      ]
    },
    {
      "cell_type": "code",
      "metadata": {
        "id": "eY30bijNqNBL"
      },
      "source": [
        "#@title Define the Model\n",
        "class Net(nn.Module):\n",
        "  def __init__(self, inputs, middle):\n",
        "    super().__init__()\n",
        "    self.fc1 = nn.Linear(inputs,middle)    \n",
        "    self.fc2 = nn.Linear(middle,middle)    \n",
        "    self.out = nn.Linear(middle,1)\n",
        "  def forward(self, x):\n",
        "    x = F.relu(self.fc1(x))     \n",
        "    x = F.relu(self.fc2(x))    \n",
        "    x = self.out(x)\n",
        "    return x"
      ],
      "execution_count": 5,
      "outputs": []
    },
    {
      "cell_type": "code",
      "metadata": {
        "id": "nsBRAusqy7Uz"
      },
      "source": [
        "#@title Define HyperparametersEC Class\n",
        "class HyperparametersEC(object):\n",
        "  def __init__(self, **kwargs):\n",
        "    self.__dict__.update(kwargs) \n",
        "    self.hparms = [d for d in self.__dict__]  \n",
        "        \n",
        "  def __str__(self):\n",
        "    out = \"\"\n",
        "    for d in self.hparms:\n",
        "      ds = self.__dict__[d]\n",
        "      out += f\"{d} = {ds} \"\n",
        "    return out   \n",
        "\n",
        "  def values(self):\n",
        "    vals = []\n",
        "    for d in self.hparms:\n",
        "      vals.append(self.__dict__[d])\n",
        "    return vals\n",
        "\n",
        "  def size(self):\n",
        "    return len(self.hparms)\n",
        "\n",
        "  def next(self, individual):\n",
        "    dict = {}\n",
        "    #initialize generators\n",
        "    for i, d in enumerate(self.hparms):\n",
        "      next(self.__dict__[d])\n",
        "    for i, d in enumerate(self.hparms):      \n",
        "      dict[d] = self.__dict__[d].send(individual[i])\n",
        "    return HyperparametersEC(**dict)   \n",
        "\n",
        "def clamp(num, min_value, max_value):\n",
        "   return max(min(num, max_value), min_value)\n",
        "\n",
        "def linespace(min,max):\n",
        "  rnge = max - min\n",
        "  while True:\n",
        "    i = yield\n",
        "    i = (clamp(i, -1.0, 1.0) + 1.0) / 2.0\n",
        "    yield i * rnge + min\n",
        "\n",
        "def linespace_int(min,max):\n",
        "  rnge = max - min\n",
        "  while True:\n",
        "    i = yield\n",
        "    i = (clamp(i, -1.0, 1.0) + 1.0) / 2.0\n",
        "    yield int(i * rnge) + min\n",
        "\n",
        "def static(val):\n",
        "  while True:\n",
        "    yield val"
      ],
      "execution_count": 6,
      "outputs": []
    },
    {
      "cell_type": "markdown",
      "metadata": {
        "id": "2Y9-31iHVPqm"
      },
      "source": [
        "# Create the HyperparamtersEC Object"
      ]
    },
    {
      "cell_type": "code",
      "metadata": {
        "colab": {
          "base_uri": "https://localhost:8080/"
        },
        "id": "ciFUE2XDzhMk",
        "outputId": "98e9a879-a31e-4355-8d9d-53db6d19ce5f"
      },
      "source": [
        "#@title Instantiate the HPO\n",
        "hp = HyperparametersEC(\n",
        "  middle_layer = linespace_int(8, 64),\n",
        "  learning_rate = linespace(3.5e-02,3.5e-01),\n",
        "  batch_size = linespace_int(4,20),    \n",
        "  epochs = linespace_int(50,400)  \n",
        ")\n",
        "\n",
        "ind = [-.5, .75, -.1, .8]\n",
        "print(hp.next(ind))"
      ],
      "execution_count": 7,
      "outputs": [
        {
          "output_type": "stream",
          "text": [
            "middle_layer = 22 learning_rate = 0.31062499999999993 batch_size = 11 epochs = 365 \n"
          ],
          "name": "stdout"
        }
      ]
    },
    {
      "cell_type": "code",
      "metadata": {
        "colab": {
          "base_uri": "https://localhost:8080/"
        },
        "id": "SNgP_WM4VakF",
        "outputId": "3bd4a37c-a9ef-441a-fa11-6f98746c2d72"
      },
      "source": [
        "cuda = True if torch.cuda.is_available() else False\n",
        "print(\"Using CUDA\" if cuda else \"Not using CUDA\")\n",
        "Tensor = torch.cuda.FloatTensor if cuda else torch.Tensor"
      ],
      "execution_count": 8,
      "outputs": [
        {
          "output_type": "stream",
          "text": [
            "Using CUDA\n"
          ],
          "name": "stdout"
        }
      ]
    },
    {
      "cell_type": "code",
      "metadata": {
        "colab": {
          "base_uri": "https://localhost:8080/",
          "height": 265
        },
        "id": "djeMYKrlO6Xj",
        "outputId": "09a154d1-a2d9-43a4-c431-8c6fb7879158"
      },
      "source": [
        "#@title Setup Principle Component Analysis\n",
        "#create example individuals\n",
        "pop = np.array([[-.5, .75, -.1, .8], \n",
        "                [-.5, -.3, -.5, .8],\n",
        "                [-.5, 1, -.5, -.8],\n",
        "                [ 1, -.3, -.5, .8]])\n",
        "pca = PCA(n_components=2)\n",
        "reduced = pca.fit_transform(pop)\n",
        "\n",
        "t = reduced.transpose()\n",
        "\n",
        "plt.scatter(t[0], t[1])\n",
        "plt.show()"
      ],
      "execution_count": 20,
      "outputs": [
        {
          "output_type": "display_data",
          "data": {
            "image/png": "[encoded data removed]",
            "text/plain": [
              "<Figure size 432x288 with 1 Axes>"
            ]
          },
          "metadata": {
            "tags": [],
            "needs_background": "light"
          }
        }
      ]
    },
    {
      "cell_type": "markdown",
      "metadata": {
        "id": "SiomzsQfWoL5"
      },
      "source": [
        "# Setup DEAP for ES Search"
      ]
    },
    {
      "cell_type": "code",
      "metadata": {
        "id": "yTrNof0Cub4F"
      },
      "source": [
        "#@title ES Bounding Hyperparameters\n",
        "IND_SIZE = hp.size()\n",
        "NGEN = 10\n",
        "MIN_VALUE = -1\n",
        "MAX_VALUE = 1\n",
        "MIN_STRATEGY = 0.5\n",
        "MAX_STRATEGY = 5\n",
        "\n",
        "CXPB = .6\n",
        "MUTPB = .3"
      ],
      "execution_count": 10,
      "outputs": []
    },
    {
      "cell_type": "code",
      "metadata": {
        "id": "j6sqsbkKWmw_"
      },
      "source": [
        "#@title Create the Creator\n",
        "creator.create(\"FitnessMin\", base.Fitness, weights=(-1.0,))\n",
        "creator.create(\"Individual\", array.array, typecode=\"d\", fitness=creator.FitnessMin, strategy=None)\n",
        "creator.create(\"Strategy\", array.array, typecode=\"d\")"
      ],
      "execution_count": 11,
      "outputs": []
    },
    {
      "cell_type": "code",
      "metadata": {
        "id": "sYdKKbkzZnvC"
      },
      "source": [
        "#@title Individual generator and decorate functions\n",
        "def generateES(icls, scls, size, imin, imax, smin, smax):  \n",
        "  ind = icls(random.uniform(imin, imax) for _ in range(size))  \n",
        "  ind.strategy = scls(random.uniform(smin, smax) for _ in range(size))  \n",
        "  return ind\n",
        "\n",
        "def checkStrategy(minstrategy):\n",
        "  def decorator(func):\n",
        "    def wrappper(*args, **kargs):\n",
        "      children = func(*args, **kargs)\n",
        "      for child in children:\n",
        "        for i, s in enumerate(child.strategy):\n",
        "          if s < minstrategy:\n",
        "            child.strategy[i] = minstrategy\n",
        "      return children\n",
        "    return wrappper\n",
        "  return decorator"
      ],
      "execution_count": 12,
      "outputs": []
    },
    {
      "cell_type": "code",
      "metadata": {
        "id": "J161LLLguzUf"
      },
      "source": [
        "#@title Setup the Toolbox\n",
        "toolbox = base.Toolbox()\n",
        "toolbox.register(\"individual\", generateES, creator.Individual, creator.Strategy,\n",
        "    IND_SIZE, MIN_VALUE, MAX_VALUE, MIN_STRATEGY, MAX_STRATEGY)\n",
        "toolbox.register(\"population\", tools.initRepeat, list, toolbox.individual)\n",
        "toolbox.register(\"mate\", tools.cxESBlend, alpha=0.25)\n",
        "toolbox.register(\"mutate\", tools.mutESLogNormal, c=1.0, indpb=0.06)\n",
        "toolbox.register(\"select\", tools.selTournament, tournsize=3)\n",
        "\n",
        "toolbox.decorate(\"mate\", checkStrategy(MIN_STRATEGY))\n",
        "toolbox.decorate(\"mutate\", checkStrategy(MIN_STRATEGY))"
      ],
      "execution_count": 13,
      "outputs": []
    },
    {
      "cell_type": "markdown",
      "metadata": {
        "id": "zCbrGhsr6IhK"
      },
      "source": [
        "# Create a Training Function"
      ]
    },
    {
      "cell_type": "code",
      "metadata": {
        "colab": {
          "base_uri": "https://localhost:8080/",
          "height": 293
        },
        "id": "je4Jf9Vp88Rq",
        "outputId": "b7771644-1539-49ce-d10f-aec89a09be1b"
      },
      "source": [
        "#@title Wrapper Function for DL\n",
        "loss_fn = nn.MSELoss()\n",
        "if cuda:\n",
        "  loss_fn.cuda()\n",
        "\n",
        "def train_function(hp): \n",
        "  X = np.reshape(\n",
        "      np.arange(\n",
        "          data_min, \n",
        "          data_max, \n",
        "          data_step)\n",
        "      , (-1, 1))\n",
        "  y = function(X)\n",
        "  inputs = X.shape[1]\n",
        "  \n",
        "  tensor_x = torch.Tensor(X) # transform to torch tensor\n",
        "  tensor_y = torch.Tensor(y)\n",
        "  \n",
        "  dataset = TensorDataset(tensor_x,tensor_y) # create your datset\n",
        "  dataloader = DataLoader(dataset, batch_size= hp.batch_size, shuffle=True) # create your dataloader\n",
        "\n",
        "  model = Net(inputs, hp.middle_layer)  \n",
        "  optimizer = optim.Adam(model.parameters(), lr=hp.learning_rate)\n",
        "  if cuda:\n",
        "    model.cuda()    \n",
        "  \n",
        "  history=[]  \n",
        "  start = time.time()\n",
        "  for i in range(hp.epochs):        \n",
        "    for X, y in iter(dataloader):\n",
        "      # wrap the data in variables\n",
        "      x_batch = Variable(torch.Tensor(X).type(Tensor))\n",
        "      y_batch = Variable(torch.Tensor(y).type(Tensor))                   \n",
        "      # forward pass\n",
        "      y_pred = model(x_batch)        \n",
        "      # compute and print loss\n",
        "      loss = loss_fn(y_pred, y_batch)  \n",
        "      ll = loss.data\n",
        "      history.append(ll)                   \n",
        "      # reset gradients\n",
        "      optimizer.zero_grad()        \n",
        "      # backwards pass\n",
        "      loss.backward()        \n",
        "      # step the optimizer - update the weights\n",
        "      optimizer.step()  \n",
        "  end = time.time() - start\n",
        "  return end, history, model, hp\n",
        "\n",
        "hp_in = hp.next(ind)\n",
        "span, history, model, hp_out = train_function(hp_in)\n",
        "plt.plot(history)\n",
        "print(min(history).item())"
      ],
      "execution_count": 14,
      "outputs": [
        {
          "output_type": "stream",
          "text": [
            "2281.25634765625\n"
          ],
          "name": "stdout"
        },
        {
          "output_type": "display_data",
          "data": {
            "image/png": "[encoded data removed]",
            "text/plain": [
              "<Figure size 432x288 with 1 Axes>"
            ]
          },
          "metadata": {
            "tags": [],
            "needs_background": "light"
          }
        }
      ]
    },
    {
      "cell_type": "markdown",
      "metadata": {
        "id": "NRQ0U-6UaUlJ"
      },
      "source": [
        "# ES Evaluate Function in Toolbox"
      ]
    },
    {
      "cell_type": "code",
      "metadata": {
        "id": "SfgZvw9haOQX"
      },
      "source": [
        "#@title Create Evaluation Function and Register\n",
        "run_history = []\n",
        "\n",
        "def evaluate(individual):\n",
        "  hp_in = hp.next(individual)\n",
        "  span, history, model, hp_out = train_function(hp_in)\n",
        "  y_ = model(torch.Tensor(Xi).type(Tensor))  \n",
        "  fitness = loss_fn(y_, torch.Tensor(yi).type(Tensor)).data.item()  \n",
        "  run_history.append([fitness,*hp_out.values()]) \n",
        "  return fitness, \n",
        "\n",
        "# fitness eval\n",
        "toolbox.register(\"evaluate\", evaluate)"
      ],
      "execution_count": 15,
      "outputs": []
    },
    {
      "cell_type": "markdown",
      "metadata": {
        "id": "8-M8o_OJVjg5"
      },
      "source": [
        "# Perform the HPO"
      ]
    },
    {
      "cell_type": "code",
      "metadata": {
        "colab": {
          "base_uri": "https://localhost:8080/",
          "height": 457
        },
        "id": "xxp8Ir2kvQ6N",
        "outputId": "6e81f2f0-9e35-4531-f908-731493f73fad"
      },
      "source": [
        "random.seed(64)\n",
        "    \n",
        "MU, LAMBDA = 10, 25\n",
        "pop = toolbox.population(n=MU)\n",
        "hof = tools.HallOfFame(1)\n",
        "stats = tools.Statistics(lambda ind: ind.fitness.values)\n",
        "stats.register(\"avg\", np.mean)\n",
        "stats.register(\"std\", np.std)\n",
        "stats.register(\"min\", np.min)\n",
        "stats.register(\"max\", np.max)\n",
        "\n",
        "best = None\n",
        "best_hp = None\n",
        "\n",
        "start = time.time()\n",
        "for g in range(NGEN):\n",
        "  pop, logbook = algorithms.eaMuCommaLambda(pop, toolbox, mu=MU, lambda_=LAMBDA, \n",
        "            cxpb=CXPB, mutpb=MUTPB, ngen=1, stats=stats, halloffame=hof, verbose=False)\n",
        "  best = hof[0]\n",
        "\n",
        "  span, history, model, hp_out = train_function(hp.next(best))\n",
        "  y_ = model(torch.Tensor(Xi).type(Tensor))  \n",
        "  fitness = loss_fn(y_, torch.Tensor(yi).type(Tensor)).data.item()     \n",
        "  run_history.append([fitness,*hp_out.values()]) \n",
        "  best_hp = hp_out\n",
        "\n",
        "  clear_output()    \n",
        "  fig, (ax1, ax2, ax3) = plt.subplots(1, 3, figsize=(18,6))    \n",
        "  fig.suptitle(f\"Best Fitness {best.fitness} \\n{best_hp}\")\n",
        "  fig.text(0,0,f\"Generation {g+1}/{NGEN} Current Fitness {fitness} \\n{hp_out}\")\n",
        "  ax1.plot(history)\n",
        "  ax1.set_xlabel(\"iteration\") \n",
        "  ax1.set_ylabel(\"loss\")\n",
        "\n",
        "  ax2.plot(Xi, yi, 'o', color='black') \n",
        "  ax2.plot(Xi,y_.detach().cpu().numpy(), 'r') \n",
        "  ax2.set_xlabel(\"X\") \n",
        "  ax2.set_ylabel(\"Y\")\n",
        "  \n",
        "  rh = np.array(run_history) \n",
        "  M = rh[:,1:IND_SIZE+1]      \n",
        "  reduced = pca.fit_transform(M)\n",
        "  t = reduced.transpose() \n",
        "  hexbins = ax3.hexbin(t[0], t[1], C=rh[:, 0], \n",
        "                        bins=50, gridsize=50, cmap=cm.get_cmap('gray'))\n",
        "  ax3.set_xlabel(\"PCA X\")\n",
        "  ax3.set_ylabel(\"PCA Y\")    \n",
        "      \n",
        "  plt.show()\n",
        "  time.sleep(1)\n",
        "\n",
        "\n",
        "     "
      ],
      "execution_count": 16,
      "outputs": [
        {
          "output_type": "display_data",
          "data": {
            "image/png": "[encoded data removed]",
            "text/plain": [
              "<Figure size 1296x432 with 3 Axes>"
            ]
          },
          "metadata": {
            "tags": [],
            "needs_background": "light"
          }
        }
      ]
    }
  ]
}