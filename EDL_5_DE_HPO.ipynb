{
  "nbformat": 4,
  "nbformat_minor": 0,
  "metadata": {
    "colab": {
      "name": "EDL_5_DE_HPO.ipynb",
      "provenance": [],
      "collapsed_sections": [],
      "toc_visible": true,
      "authorship_tag": "ABX9TyMs8JFtKMRTJALXn1gMCVDy",
      "include_colab_link": true
    },
    "kernelspec": {
      "name": "python3",
      "display_name": "Python 3"
    },
    "accelerator": "GPU"
  },
  "cells": [
    {
      "cell_type": "markdown",
      "metadata": {
        "id": "view-in-github",
        "colab_type": "text"
      },
      "source": [
        "<a href=\"https://colab.research.google.com/github/cxbxmxcx/Evolutionary-Deep-Learning/blob/main/EDL_5_DE_HPO.ipynb\" target=\"_parent\"><img src=\"https://colab.research.google.com/assets/colab-badge.svg\" alt=\"Open In Colab\"/></a>"
      ]
    },
    {
      "cell_type": "markdown",
      "metadata": {
        "id": "7eo9h5KA5UPe"
      },
      "source": [
        "# Setup"
      ]
    },
    {
      "cell_type": "code",
      "metadata": {
        "colab": {
          "base_uri": "https://localhost:8080/"
        },
        "id": "jpHn_-RfV0_n",
        "outputId": "7ceef739-4cf8-4f28-c898-241be2a77a74"
      },
      "source": [
        "#@title Install DEAP\n",
        "!pip install deap --quiet"
      ],
      "execution_count": null,
      "outputs": [
        {
          "output_type": "stream",
          "text": [
            "\u001b[?25l\r\u001b[K     |██                              | 10kB 18.8MB/s eta 0:00:01\r\u001b[K     |████▏                           | 20kB 21.2MB/s eta 0:00:01\r\u001b[K     |██████▏                         | 30kB 10.5MB/s eta 0:00:01\r\u001b[K     |████████▎                       | 40kB 8.4MB/s eta 0:00:01\r\u001b[K     |██████████▍                     | 51kB 3.6MB/s eta 0:00:01\r\u001b[K     |████████████▍                   | 61kB 4.3MB/s eta 0:00:01\r\u001b[K     |██████████████▌                 | 71kB 4.9MB/s eta 0:00:01\r\u001b[K     |████████████████▋               | 81kB 5.5MB/s eta 0:00:01\r\u001b[K     |██████████████████▋             | 92kB 6.1MB/s eta 0:00:01\r\u001b[K     |████████████████████▊           | 102kB 6.2MB/s eta 0:00:01\r\u001b[K     |██████████████████████▉         | 112kB 6.2MB/s eta 0:00:01\r\u001b[K     |████████████████████████▉       | 122kB 6.2MB/s eta 0:00:01\r\u001b[K     |███████████████████████████     | 133kB 6.2MB/s eta 0:00:01\r\u001b[K     |█████████████████████████████   | 143kB 6.2MB/s eta 0:00:01\r\u001b[K     |███████████████████████████████ | 153kB 6.2MB/s eta 0:00:01\r\u001b[K     |████████████████████████████████| 163kB 6.2MB/s \n",
            "\u001b[?25h"
          ],
          "name": "stdout"
        }
      ]
    },
    {
      "cell_type": "code",
      "metadata": {
        "id": "FslekLiVp_Il"
      },
      "source": [
        "#@title Defining Imports\n",
        "#numpy\n",
        "import numpy as np\n",
        "#DEAP\n",
        "from deap import algorithms\n",
        "from deap import base\n",
        "from deap import benchmarks\n",
        "from deap import creator\n",
        "from deap import tools\n",
        "#PyTorch\n",
        "import torch\n",
        "import torch.nn as nn\n",
        "from torch.autograd import Variable\n",
        "import torch.nn.functional as F\n",
        "import torch.optim as optim\n",
        "from torch.utils.data import TensorDataset, DataLoader\n",
        "#plotting\n",
        "from matplotlib import pyplot as plt\n",
        "from IPython.display import clear_output\n",
        "#utils\n",
        "import random\n",
        "import math\n",
        "import array\n",
        "import time"
      ],
      "execution_count": null,
      "outputs": []
    },
    {
      "cell_type": "code",
      "metadata": {
        "colab": {
          "base_uri": "https://localhost:8080/",
          "height": 286
        },
        "id": "MQCdK2oWJlid",
        "outputId": "c1841b88-2050-475c-8775-201ababde0d8"
      },
      "source": [
        "#@title Setup Target Function and Data\n",
        "def function(x):\n",
        "  return (2*x + 3*x**2 + 4*x**3 + 5*x**4 + 6*x**5 + 10) \n",
        "\n",
        "data_min = -5\n",
        "data_max = 5\n",
        "data_step = .5\n",
        "Xi = np.reshape(np.arange(data_min, data_max, data_step), (-1, 1))\n",
        "yi = function(Xi)\n",
        "inputs = Xi.shape[1]\n",
        "yi = yi.reshape(-1, 1)\n",
        "plt.plot(Xi, yi, 'o', color='black')"
      ],
      "execution_count": null,
      "outputs": [
        {
          "output_type": "execute_result",
          "data": {
            "text/plain": [
              "[<matplotlib.lines.Line2D at 0x7f79e0c4d6d0>]"
            ]
          },
          "metadata": {
            "tags": []
          },
          "execution_count": 3
        },
        {
          "output_type": "display_data",
          "data": {
            "image/png": "[encoded data removed]",
            "text/plain": [
              "<Figure size 432x288 with 1 Axes>"
            ]
          },
          "metadata": {
            "tags": [],
            "needs_background": "light"
          }
        }
      ]
    },
    {
      "cell_type": "code",
      "metadata": {
        "id": "eY30bijNqNBL"
      },
      "source": [
        "#@title Define the Model\n",
        "class Net(nn.Module):\n",
        "  def __init__(self, inputs, middle):\n",
        "    super().__init__()\n",
        "    self.fc1 = nn.Linear(inputs,middle)    \n",
        "    self.fc2 = nn.Linear(middle,middle)    \n",
        "    self.out = nn.Linear(middle,1)\n",
        "  def forward(self, x):\n",
        "    x = F.relu(self.fc1(x))     \n",
        "    x = F.relu(self.fc2(x))    \n",
        "    x = self.out(x)\n",
        "    return x"
      ],
      "execution_count": null,
      "outputs": []
    },
    {
      "cell_type": "code",
      "metadata": {
        "id": "nsBRAusqy7Uz"
      },
      "source": [
        "#@title Define HyperparametersEC Class\n",
        "class HyperparametersEC(object):\n",
        "  def __init__(self, **kwargs):\n",
        "    self.__dict__.update(kwargs) \n",
        "    self.hparms = [d for d in self.__dict__]  \n",
        "        \n",
        "  def __str__(self):\n",
        "    out = \"\"\n",
        "    for d in self.hparms:\n",
        "      ds = self.__dict__[d]\n",
        "      out += f\"{d} = {ds}\\n\"\n",
        "    return out   \n",
        "\n",
        "  def size(self):\n",
        "    return len(self.hparms)\n",
        "\n",
        "  def next(self, individual):\n",
        "    dict = {}\n",
        "    #initialize generators\n",
        "    for i, d in enumerate(self.hparms):\n",
        "      next(self.__dict__[d])\n",
        "    for i, d in enumerate(self.hparms):      \n",
        "      dict[d] = self.__dict__[d].send(individual[i])\n",
        "    return HyperparametersEC(**dict)   \n",
        "\n",
        "def clamp(num, min_value, max_value):\n",
        "   return max(min(num, max_value), min_value)\n",
        "\n",
        "def linespace(min,max):\n",
        "  rnge = max - min\n",
        "  while True:\n",
        "    i = yield\n",
        "    i = (clamp(i, -1.0, 1.0) + 1.0) / 2.0\n",
        "    yield i * rnge + min\n",
        "\n",
        "def linespace_int(min,max):\n",
        "  rnge = max - min\n",
        "  while True:\n",
        "    i = yield\n",
        "    i = (clamp(i, -1.0, 1.0) + 1.0) / 2.0\n",
        "    yield int(i * rnge) + min\n",
        "\n",
        "def static(val):\n",
        "  while True:\n",
        "    yield val"
      ],
      "execution_count": null,
      "outputs": []
    },
    {
      "cell_type": "markdown",
      "metadata": {
        "id": "2Y9-31iHVPqm"
      },
      "source": [
        "# Create the HyperparamtersEC Object"
      ]
    },
    {
      "cell_type": "code",
      "metadata": {
        "colab": {
          "base_uri": "https://localhost:8080/"
        },
        "id": "ciFUE2XDzhMk",
        "outputId": "70989f0c-6370-4e3d-fd02-d4fe5fe97d91"
      },
      "source": [
        "#@title Instantiate the HPO\n",
        "hp = HyperparametersEC(\n",
        "  middle_layer = linespace_int(12, 64),\n",
        "  learning_rate = linespace(3.5e-03,3.5e-01),\n",
        "  batch_size = linespace_int(4, 16),    \n",
        "  epochs = static(100)  \n",
        ")\n",
        "\n",
        "cuda = True if torch.cuda.is_available() else False\n",
        "print(\"Using CUDA\" if cuda else \"Not using CUDA\")\n",
        "Tensor = torch.cuda.FloatTensor if cuda else torch.Tensor\n",
        "\n",
        "ind = [-.5, .75, -.1, .8]\n",
        "print(hp.next(ind))"
      ],
      "execution_count": null,
      "outputs": [
        {
          "output_type": "stream",
          "text": [
            "Using CUDA\n",
            "middle_layer = 25\n",
            "learning_rate = 0.3066875\n",
            "batch_size = 9\n",
            "epochs = 100\n",
            "\n"
          ],
          "name": "stdout"
        }
      ]
    },
    {
      "cell_type": "markdown",
      "metadata": {
        "id": "SiomzsQfWoL5"
      },
      "source": [
        "# Setup DEAP for ES Search"
      ]
    },
    {
      "cell_type": "code",
      "metadata": {
        "id": "yTrNof0Cub4F"
      },
      "source": [
        "#@title DE Bounding Hyperparameters\n",
        "NDIM = hp.size()\n",
        "CR = 0.25\n",
        "F_ = 1  \n",
        "MU = 10\n",
        "NGEN = 10  "
      ],
      "execution_count": null,
      "outputs": []
    },
    {
      "cell_type": "code",
      "metadata": {
        "id": "j6sqsbkKWmw_"
      },
      "source": [
        "#@title Setup Fitness Criteria\n",
        "creator.create(\"FitnessMin\", base.Fitness, weights=(-1.0,))\n",
        "creator.create(\"Individual\", array.array, typecode='d', fitness=creator.FitnessMin)"
      ],
      "execution_count": null,
      "outputs": []
    },
    {
      "cell_type": "code",
      "metadata": {
        "id": "J161LLLguzUf"
      },
      "source": [
        "#@title Add Genetic Operators to Toolbox\n",
        "toolbox = base.Toolbox()\n",
        "toolbox.register(\"attr_float\", random.uniform, -1, 1)\n",
        "toolbox.register(\"individual\", tools.initRepeat, creator.Individual, toolbox.attr_float, NDIM)\n",
        "toolbox.register(\"population\", tools.initRepeat, list, toolbox.individual)\n",
        "toolbox.register(\"select\", tools.selRandom, k=3)"
      ],
      "execution_count": null,
      "outputs": []
    },
    {
      "cell_type": "markdown",
      "metadata": {
        "id": "zCbrGhsr6IhK"
      },
      "source": [
        "# Create a Training Function"
      ]
    },
    {
      "cell_type": "code",
      "metadata": {
        "colab": {
          "base_uri": "https://localhost:8080/",
          "height": 293
        },
        "id": "je4Jf9Vp88Rq",
        "outputId": "0d21fc89-616c-429b-855a-591250745ab9"
      },
      "source": [
        "#@title Wrapper Function for DL\n",
        "def train_function(hp):   \n",
        "  X = np.reshape(\n",
        "      np.arange(\n",
        "          data_min, \n",
        "          data_max, \n",
        "          data_step)\n",
        "      , (-1, 1))\n",
        "  y = function(X)\n",
        "  inputs = X.shape[1]\n",
        "  \n",
        "  tensor_x = torch.Tensor(X) # transform to torch tensor\n",
        "  tensor_y = torch.Tensor(y)\n",
        "  \n",
        "  dataset = TensorDataset(tensor_x,tensor_y) # create your datset\n",
        "  dataloader = DataLoader(dataset, batch_size= hp.batch_size, shuffle=True) # create your dataloader\n",
        "\n",
        "  model = Net(inputs, hp.middle_layer)\n",
        "  loss_fn = nn.MSELoss()\n",
        "  optimizer = optim.Adam(model.parameters(), lr=hp.learning_rate)\n",
        "  if cuda:\n",
        "    model.cuda()\n",
        "    loss_fn.cuda()\n",
        "  \n",
        "  history=[]  \n",
        "  start = time.time()\n",
        "  for i in range(hp.epochs):        \n",
        "    for X, y in iter(dataloader):\n",
        "      # wrap the data in variables\n",
        "      x_batch = Variable(torch.Tensor(X).type(Tensor))\n",
        "      y_batch = Variable(torch.Tensor(y).type(Tensor))                   \n",
        "      # forward pass\n",
        "      y_pred = model(x_batch)        \n",
        "      # compute and print loss\n",
        "      loss = loss_fn(y_pred, y_batch)  \n",
        "      ll = loss.data\n",
        "      history.append(ll)                   \n",
        "      # reset gradients\n",
        "      optimizer.zero_grad()        \n",
        "      # backwards pass\n",
        "      loss.backward()        \n",
        "      # step the optimizer - update the weights\n",
        "      optimizer.step()  \n",
        "  end = time.time() - start\n",
        "  return end, history, model, hp\n",
        "\n",
        "hp_in = hp.next(ind)\n",
        "span, history, model, hp_out = train_function(hp_in)\n",
        "plt.plot(history)\n",
        "print(min(history).item())"
      ],
      "execution_count": null,
      "outputs": [
        {
          "output_type": "stream",
          "text": [
            "208.12265014648438\n"
          ],
          "name": "stdout"
        },
        {
          "output_type": "display_data",
          "data": {
            "image/png": "[encoded data removed]",
            "text/plain": [
              "<Figure size 432x288 with 1 Axes>"
            ]
          },
          "metadata": {
            "tags": [],
            "needs_background": "light"
          }
        }
      ]
    },
    {
      "cell_type": "markdown",
      "metadata": {
        "id": "NRQ0U-6UaUlJ"
      },
      "source": [
        "# DE Evaluate Function in Toolbox"
      ]
    },
    {
      "cell_type": "code",
      "metadata": {
        "id": "SfgZvw9haOQX"
      },
      "source": [
        "#@title Create Evaluation Function and Register\n",
        "def evaluate(individual):\n",
        "  hp_in = hp.next(individual)\n",
        "  span, history, model, hp_out = train_function(hp_in)\n",
        "  fitness = history[-1].item()\n",
        "  return fitness,\n",
        "\n",
        "# fitness eval\n",
        "toolbox.register(\"evaluate\", evaluate)"
      ],
      "execution_count": null,
      "outputs": []
    },
    {
      "cell_type": "markdown",
      "metadata": {
        "id": "8-M8o_OJVjg5"
      },
      "source": [
        "# Perform the HPO"
      ]
    },
    {
      "cell_type": "code",
      "metadata": {
        "colab": {
          "base_uri": "https://localhost:8080/",
          "height": 630
        },
        "id": "xxp8Ir2kvQ6N",
        "outputId": "c9e52a0a-8347-4eb8-f168-7096c327cd1e"
      },
      "source": [
        "random.seed(64)\n",
        "    \n",
        "pop = toolbox.population(n=MU);\n",
        "hof = tools.HallOfFame(1)\n",
        "stats = tools.Statistics(lambda ind: ind.fitness.values)\n",
        "stats.register(\"avg\", np.mean)\n",
        "stats.register(\"std\", np.std)\n",
        "stats.register(\"min\", np.min)\n",
        "stats.register(\"max\", np.max)\n",
        "\n",
        "logbook = tools.Logbook()\n",
        "logbook.header = \"gen\", \"evals\", \"std\", \"min\", \"avg\", \"max\"\n",
        "\n",
        "# Evaluate the individuals\n",
        "fitnesses = toolbox.map(toolbox.evaluate, pop)\n",
        "for ind, fit in zip(pop, fitnesses):\n",
        "    ind.fitness.values = fit\n",
        "\n",
        "record = stats.compile(pop)\n",
        "logbook.record(gen=0, evals=len(pop), **record)\n",
        "print(logbook.stream)\n",
        "start = time.time()\n",
        "for g in range(1, NGEN):\n",
        "  for k, agent in enumerate(pop):\n",
        "    a,b,c = toolbox.select(pop)\n",
        "    y = toolbox.clone(agent)\n",
        "    index = random.randrange(NDIM)\n",
        "    for i, value in enumerate(agent):\n",
        "      if i == index or random.random() < CR:\n",
        "        y[i] = a[i] + F_*(b[i]-c[i])\n",
        "    y.fitness.values = toolbox.evaluate(y)\n",
        "    if y.fitness > agent.fitness:\n",
        "      pop[k] = y            \n",
        "  hof.update(pop)    \n",
        "  record = stats.compile(pop)\n",
        "  logbook.record(gen=g, evals=len(pop), **record)\n",
        "  best = hof[0]\n",
        "  clear_output()\n",
        "  span, history, model, hp_out = train_function(hp.next(best))\n",
        "  fitness = history[-1].item()   \n",
        "  print(f\"Generation: {g+1}/{NGEN}, Fitness: {fitness}\")\n",
        "  plt.plot(history)\n",
        "  plt.show()\n",
        "  plt.plot(Xi, yi, 'o', color='black')\n",
        "  y_ = model(torch.Tensor(Xi).type(Tensor))\n",
        "  plt.plot(Xi,y_.detach().cpu().numpy(), 'r')\n",
        "  plt.show()\n",
        "  print(hp_out)    "
      ],
      "execution_count": null,
      "outputs": [
        {
          "output_type": "stream",
          "text": [
            "Generation: 10/10, Fitness: 8136.79638671875\n"
          ],
          "name": "stdout"
        },
        {
          "output_type": "display_data",
          "data": {
            "image/png": "[encoded data removed]",
            "text/plain": [
              "<Figure size 432x288 with 1 Axes>"
            ]
          },
          "metadata": {
            "tags": [],
            "needs_background": "light"
          }
        },
        {
          "output_type": "display_data",
          "data": {
            "image/png": "[encoded data removed]",
            "text/plain": [
              "<Figure size 432x288 with 1 Axes>"
            ]
          },
          "metadata": {
            "tags": [],
            "needs_background": "light"
          }
        },
        {
          "output_type": "stream",
          "text": [
            "middle_layer = 12\n",
            "learning_rate = 0.26073894317127483\n",
            "batch_size = 6\n",
            "epochs = 100\n",
            "\n"
          ],
          "name": "stdout"
        }
      ]
    }
  ]
}