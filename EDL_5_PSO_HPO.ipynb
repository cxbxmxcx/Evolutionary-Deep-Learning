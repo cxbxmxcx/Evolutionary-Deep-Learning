{
  "nbformat": 4,
  "nbformat_minor": 0,
  "metadata": {
    "colab": {
      "name": "EDL_5_PSO_HPO.ipynb",
      "provenance": [],
      "collapsed_sections": [],
      "toc_visible": true,
      "authorship_tag": "ABX9TyO0O72VLj7fnEVzEx3meyGs",
      "include_colab_link": true
    },
    "kernelspec": {
      "name": "python3",
      "display_name": "Python 3"
    },
    "accelerator": "GPU"
  },
  "cells": [
    {
      "cell_type": "markdown",
      "metadata": {
        "id": "view-in-github",
        "colab_type": "text"
      },
      "source": [
        "<a href=\"https://colab.research.google.com/github/cxbxmxcx/Evolutionary-Deep-Learning/blob/main/EDL_5_PSO_HPO.ipynb\" target=\"_parent\"><img src=\"https://colab.research.google.com/assets/colab-badge.svg\" alt=\"Open In Colab\"/></a>"
      ]
    },
    {
      "cell_type": "markdown",
      "metadata": {
        "id": "7eo9h5KA5UPe"
      },
      "source": [
        "# Setup"
      ]
    },
    {
      "cell_type": "code",
      "metadata": {
        "colab": {
          "base_uri": "https://localhost:8080/"
        },
        "id": "jpHn_-RfV0_n",
        "outputId": "315b257a-070f-4db9-d3b1-cbb89fb6eed8"
      },
      "source": [
        "#@title Install DEAP\n",
        "!pip install deap --quiet"
      ],
      "execution_count": null,
      "outputs": [
        {
          "output_type": "stream",
          "text": [
            "\u001b[?25l\r\u001b[K     |██                              | 10kB 25.3MB/s eta 0:00:01\r\u001b[K     |████▏                           | 20kB 16.1MB/s eta 0:00:01\r\u001b[K     |██████▏                         | 30kB 14.3MB/s eta 0:00:01\r\u001b[K     |████████▎                       | 40kB 13.4MB/s eta 0:00:01\r\u001b[K     |██████████▍                     | 51kB 7.6MB/s eta 0:00:01\r\u001b[K     |████████████▍                   | 61kB 8.9MB/s eta 0:00:01\r\u001b[K     |██████████████▌                 | 71kB 8.5MB/s eta 0:00:01\r\u001b[K     |████████████████▋               | 81kB 9.4MB/s eta 0:00:01\r\u001b[K     |██████████████████▋             | 92kB 9.0MB/s eta 0:00:01\r\u001b[K     |████████████████████▊           | 102kB 7.4MB/s eta 0:00:01\r\u001b[K     |██████████████████████▉         | 112kB 7.4MB/s eta 0:00:01\r\u001b[K     |████████████████████████▉       | 122kB 7.4MB/s eta 0:00:01\r\u001b[K     |███████████████████████████     | 133kB 7.4MB/s eta 0:00:01\r\u001b[K     |█████████████████████████████   | 143kB 7.4MB/s eta 0:00:01\r\u001b[K     |███████████████████████████████ | 153kB 7.4MB/s eta 0:00:01\r\u001b[K     |████████████████████████████████| 163kB 7.4MB/s \n",
            "\u001b[?25h"
          ],
          "name": "stdout"
        }
      ]
    },
    {
      "cell_type": "code",
      "metadata": {
        "id": "FslekLiVp_Il"
      },
      "source": [
        "#@title Defining Imports\n",
        "#numpy\n",
        "import numpy as np\n",
        "#DEAP\n",
        "from deap import base\n",
        "from deap import benchmarks\n",
        "from deap import creator\n",
        "from deap import tools\n",
        "#PyTorch\n",
        "import torch\n",
        "import torch.nn as nn\n",
        "from torch.autograd import Variable\n",
        "import torch.nn.functional as F\n",
        "import torch.optim as optim\n",
        "from torch.utils.data import TensorDataset, DataLoader\n",
        "#plotting\n",
        "from matplotlib import pyplot as plt\n",
        "from IPython.display import clear_output\n",
        "#for performance timing\n",
        "import time\n",
        "#utils\n",
        "import random\n",
        "import math"
      ],
      "execution_count": null,
      "outputs": []
    },
    {
      "cell_type": "code",
      "metadata": {
        "colab": {
          "base_uri": "https://localhost:8080/",
          "height": 286
        },
        "id": "MQCdK2oWJlid",
        "outputId": "5267139d-6b0b-4989-e06f-0d5e2e3e660a"
      },
      "source": [
        "#@title Setup Target Function and Data\n",
        "def function(x):\n",
        "  return (2*x + 3*x**2 + 4*x**3 + 5*x**4 + 6*x**5 + 10) \n",
        "\n",
        "data_min = -5\n",
        "data_max = 5\n",
        "data_step = .5\n",
        "Xi = np.reshape(np.arange(data_min, data_max, data_step), (-1, 1))\n",
        "yi = function(Xi)\n",
        "inputs = Xi.shape[1]\n",
        "yi = yi.reshape(-1, 1)\n",
        "plt.plot(Xi, yi, 'o', color='black')"
      ],
      "execution_count": null,
      "outputs": [
        {
          "output_type": "execute_result",
          "data": {
            "text/plain": [
              "[<matplotlib.lines.Line2D at 0x7f1ddacfa050>]"
            ]
          },
          "metadata": {
            "tags": []
          },
          "execution_count": 3
        },
        {
          "output_type": "display_data",
          "data": {
            "image/png": "[encoded data removed]",
            "text/plain": [
              "<Figure size 432x288 with 1 Axes>"
            ]
          },
          "metadata": {
            "tags": [],
            "needs_background": "light"
          }
        }
      ]
    },
    {
      "cell_type": "code",
      "metadata": {
        "id": "eY30bijNqNBL"
      },
      "source": [
        "#@title Define the Model\n",
        "class Net(nn.Module):\n",
        "  def __init__(self, inputs, middle):\n",
        "    super().__init__()\n",
        "    self.fc1 = nn.Linear(inputs,middle)    \n",
        "    self.fc2 = nn.Linear(middle,middle)    \n",
        "    self.out = nn.Linear(middle,1)\n",
        "  def forward(self, x):\n",
        "    x = F.relu(self.fc1(x))     \n",
        "    x = F.relu(self.fc2(x))    \n",
        "    x = self.out(x)\n",
        "    return x"
      ],
      "execution_count": null,
      "outputs": []
    },
    {
      "cell_type": "code",
      "metadata": {
        "id": "nsBRAusqy7Uz"
      },
      "source": [
        "#@title Define HyperparametersEC Class\n",
        "class HyperparametersEC(object):\n",
        "  def __init__(self, **kwargs):\n",
        "    self.__dict__.update(kwargs) \n",
        "    self.hparms = [d for d in self.__dict__]  \n",
        "        \n",
        "  def __str__(self):\n",
        "    out = \"\"\n",
        "    for d in self.hparms:\n",
        "      ds = self.__dict__[d]\n",
        "      out += f\"{d} = {ds}\\n\"\n",
        "    return out   \n",
        "\n",
        "  def size(self):\n",
        "    return len(self.hparms)\n",
        "\n",
        "  def next(self, individual):\n",
        "    dict = {}\n",
        "    #initialize generators\n",
        "    for i, d in enumerate(self.hparms):\n",
        "      next(self.__dict__[d])\n",
        "    for i, d in enumerate(self.hparms):      \n",
        "      dict[d] = self.__dict__[d].send(individual[i])\n",
        "    return HyperparametersEC(**dict)   \n",
        "\n",
        "def clamp(num, min_value, max_value):\n",
        "   return max(min(num, max_value), min_value)\n",
        "\n",
        "def linespace(min,max):\n",
        "  rnge = max - min\n",
        "  while True:\n",
        "    i = yield\n",
        "    i = (clamp(i, -1.0, 1.0) + 1.0) / 2.0\n",
        "    yield i * rnge + min\n",
        "\n",
        "def linespace_int(min,max):\n",
        "  rnge = max - min\n",
        "  while True:\n",
        "    i = yield\n",
        "    i = (clamp(i, -1.0, 1.0) + 1.0) / 2.0\n",
        "    yield int(i * rnge) + min\n"
      ],
      "execution_count": null,
      "outputs": []
    },
    {
      "cell_type": "markdown",
      "metadata": {
        "id": "2Y9-31iHVPqm"
      },
      "source": [
        "# Create the HyperparamtersEC Object"
      ]
    },
    {
      "cell_type": "code",
      "metadata": {
        "colab": {
          "base_uri": "https://localhost:8080/"
        },
        "id": "ciFUE2XDzhMk",
        "outputId": "3a0c24e3-4f4d-41bc-aeb2-c269eedc1a1c"
      },
      "source": [
        "#@title Instantiate the HPO\n",
        "hp = HyperparametersEC(\n",
        "  middle_layer = linespace_int(12, 64),\n",
        "  learning_rate = linespace(3.5e-03,3.5e-01),\n",
        "  batch_size = linespace_int(4, 16),    \n",
        "  epochs = linespace_int(100,400)  \n",
        ")\n",
        "\n",
        "cuda = True if torch.cuda.is_available() else False\n",
        "print(\"Using CUDA\" if cuda else \"Not using CUDA\")\n",
        "Tensor = torch.cuda.FloatTensor if cuda else torch.Tensor\n",
        "\n",
        "ind = [-.5, .75, -.1, .8]\n",
        "print(hp.next(ind))"
      ],
      "execution_count": null,
      "outputs": [
        {
          "output_type": "stream",
          "text": [
            "Using CUDA\n",
            "middle_layer = 25\n",
            "learning_rate = 0.3066875\n",
            "batch_size = 9\n",
            "epochs = 370\n",
            "\n"
          ],
          "name": "stdout"
        }
      ]
    },
    {
      "cell_type": "markdown",
      "metadata": {
        "id": "SiomzsQfWoL5"
      },
      "source": [
        "# Setup DEAP for PSO Search"
      ]
    },
    {
      "cell_type": "code",
      "metadata": {
        "id": "j6sqsbkKWmw_"
      },
      "source": [
        "#@title Setup Fitness Criteria\n",
        "creator.create(\"FitnessMax\", base.Fitness, weights=(1.0,))\n",
        "creator.create(\"Particle\", np.ndarray, fitness=creator.FitnessMax, speed=list, \n",
        "    smin=None, smax=None, best=None)"
      ],
      "execution_count": null,
      "outputs": []
    },
    {
      "cell_type": "code",
      "metadata": {
        "id": "sYdKKbkzZnvC"
      },
      "source": [
        "#@title PSO Functions\n",
        "def generate(size, pmin, pmax, smin, smax):\n",
        "  part = creator.Particle(np.random.uniform(pmin, pmax, size)) \n",
        "  part.speed = np.random.uniform(smin, smax, size)\n",
        "  part.smin = smin\n",
        "  part.smax = smax\n",
        "  return part\n",
        "\n",
        "def updateParticle(part, best, phi1, phi2):\n",
        "  u1 = np.random.uniform(0, phi1, len(part))\n",
        "  u2 = np.random.uniform(0, phi2, len(part))\n",
        "  v_u1 = u1 * (part.best - part)\n",
        "  v_u2 = u2 * (best - part)\n",
        "  part.speed += v_u1 + v_u2\n",
        "  for i, speed in enumerate(part.speed):\n",
        "    if abs(speed) < part.smin:\n",
        "      part.speed[i] = math.copysign(part.smin, speed)\n",
        "    elif abs(speed) > part.smax:\n",
        "      part.speed[i] = math.copysign(part.smax, speed)\n",
        "  part += part.speed"
      ],
      "execution_count": null,
      "outputs": []
    },
    {
      "cell_type": "markdown",
      "metadata": {
        "id": "zCbrGhsr6IhK"
      },
      "source": [
        "# Create a Training Function"
      ]
    },
    {
      "cell_type": "code",
      "metadata": {
        "colab": {
          "base_uri": "https://localhost:8080/",
          "height": 293
        },
        "id": "je4Jf9Vp88Rq",
        "outputId": "4d976be0-5409-46fb-9713-f58811117ee9"
      },
      "source": [
        "#@title Wrapper Function for DL\n",
        "def train_function(hp): \n",
        "  X = np.reshape(\n",
        "      np.arange(\n",
        "          data_min, \n",
        "          data_max, \n",
        "          data_step)\n",
        "      , (-1, 1))\n",
        "  y = function(X)\n",
        "  inputs = X.shape[1]\n",
        "  \n",
        "  tensor_x = torch.Tensor(X) # transform to torch tensor\n",
        "  tensor_y = torch.Tensor(y)\n",
        "  \n",
        "  dataset = TensorDataset(tensor_x,tensor_y) # create your datset\n",
        "  dataloader = DataLoader(dataset, batch_size= hp.batch_size, shuffle=True) # create your dataloader\n",
        "\n",
        "  model = Net(inputs, hp.middle_layer)\n",
        "  loss_fn = nn.MSELoss()\n",
        "  optimizer = optim.Adam(model.parameters(), lr=hp.learning_rate)\n",
        "  if cuda:\n",
        "    model.cuda()\n",
        "    loss_fn.cuda()\n",
        "  \n",
        "  history=[]  \n",
        "  start = time.time()\n",
        "  for i in range(hp.epochs):        \n",
        "    for X, y in iter(dataloader):\n",
        "      # wrap the data in variables\n",
        "      x_batch = Variable(torch.Tensor(X).type(Tensor))\n",
        "      y_batch = Variable(torch.Tensor(y).type(Tensor))                   \n",
        "      # forward pass\n",
        "      y_pred = model(x_batch)        \n",
        "      # compute and print loss\n",
        "      loss = loss_fn(y_pred, y_batch)  \n",
        "      ll = loss.data\n",
        "      history.append(ll)                   \n",
        "      # reset gradients\n",
        "      optimizer.zero_grad()        \n",
        "      # backwards pass\n",
        "      loss.backward()        \n",
        "      # step the optimizer - update the weights\n",
        "      optimizer.step()  \n",
        "  end = time.time() - start\n",
        "  return end, history, model, hp\n",
        "\n",
        "hp_in = hp.next(ind)\n",
        "span, history, model, hp_out = train_function(hp_in)\n",
        "plt.plot(history)\n",
        "print(min(history).item())"
      ],
      "execution_count": null,
      "outputs": [
        {
          "output_type": "stream",
          "text": [
            "124.4998550415039\n"
          ],
          "name": "stdout"
        },
        {
          "output_type": "display_data",
          "data": {
            "image/png": "[encoded data removed]",
            "text/plain": [
              "<Figure size 432x288 with 1 Axes>"
            ]
          },
          "metadata": {
            "tags": [],
            "needs_background": "light"
          }
        }
      ]
    },
    {
      "cell_type": "markdown",
      "metadata": {
        "id": "NRQ0U-6UaUlJ"
      },
      "source": [
        "# DEAP Toolbox"
      ]
    },
    {
      "cell_type": "code",
      "metadata": {
        "id": "SfgZvw9haOQX"
      },
      "source": [
        "#@title Create Evaluation Function and Register\n",
        "def evaluate(individual):\n",
        "  hp_in = hp.next(individual)\n",
        "  span, history, model, hp_out = train_function(hp_in)\n",
        "  fitness = history[-1].item()\n",
        "  return fitness,\n",
        "\n",
        "#@title Add Functions to Toolbox\n",
        "toolbox = base.Toolbox()\n",
        "toolbox.register(\"particle\", \n",
        "                 generate, size=hp.size(), pmin=-.05, pmax=.05, smin=-.05, smax=.05)\n",
        "toolbox.register(\"population\", \n",
        "                 tools.initRepeat, list, toolbox.particle)\n",
        "toolbox.register(\"update\", \n",
        "                 updateParticle, phi1=1, phi2=1)\n",
        "toolbox.register(\"evaluate\", evaluate)"
      ],
      "execution_count": null,
      "outputs": []
    },
    {
      "cell_type": "markdown",
      "metadata": {
        "id": "8-M8o_OJVjg5"
      },
      "source": [
        "# Perform the HPO"
      ]
    },
    {
      "cell_type": "code",
      "metadata": {
        "colab": {
          "base_uri": "https://localhost:8080/",
          "height": 630
        },
        "id": "CfAwK51KiO1O",
        "outputId": "1ab60431-2d12-4b11-f926-60b3e4605ec5"
      },
      "source": [
        "random.seed(64)\n",
        "    \n",
        "pop = toolbox.population(n=10)\n",
        "stats = tools.Statistics(lambda ind: ind.fitness.values)\n",
        "stats.register(\"avg\", np.mean)\n",
        "stats.register(\"std\", np.std)\n",
        "stats.register(\"min\", np.min)\n",
        "stats.register(\"max\", np.max)\n",
        "\n",
        "logbook = tools.Logbook()\n",
        "logbook.header = [\"gen\", \"evals\"] + stats.fields\n",
        "\n",
        "ITS = 10\n",
        "best = None\n",
        "best_part = None\n",
        "\n",
        "for i in range(ITS):          \n",
        "  for part in pop:       \n",
        "    part.fitness.values = toolbox.evaluate(part)        \n",
        "    if part.best is None or part.best.fitness < part.fitness:\n",
        "      part.best = creator.Particle(part)\n",
        "      part.best.fitness.values = part.fitness.values\n",
        "    if best is None or best.fitness > part.fitness:\n",
        "      best = creator.Particle(part)\n",
        "      best.fitness.values = part.fitness.values\n",
        "  for part in pop:\n",
        "    toolbox.update(part, best)\n",
        "  clear_output()\n",
        "  span, history, model, hp_out = train_function(hp.next(best))\n",
        "  fitness = history[-1].item()   \n",
        "  print(f\"Iteration: {i+1}/{ITS}, Fitness: {fitness}\")\n",
        "  plt.plot(history)\n",
        "  plt.show()\n",
        "  plt.plot(Xi, yi, 'o', color='black')\n",
        "  y_ = model(torch.Tensor(Xi).type(Tensor))\n",
        "  plt.plot(Xi,y_.detach().cpu().numpy(), 'r')\n",
        "  plt.show()\n",
        "  print(hp_out)    \n",
        "  "
      ],
      "execution_count": null,
      "outputs": [
        {
          "output_type": "stream",
          "text": [
            "Generation: 10/10, Fitness: 6139.974609375\n"
          ],
          "name": "stdout"
        },
        {
          "output_type": "display_data",
          "data": {
            "image/png": "[encoded data removed]",
            "text/plain": [
              "<Figure size 432x288 with 1 Axes>"
            ]
          },
          "metadata": {
            "tags": [],
            "needs_background": "light"
          }
        },
        {
          "output_type": "display_data",
          "data": {
            "image/png": "[encoded data removed]",
            "text/plain": [
              "<Figure size 432x288 with 1 Axes>"
            ]
          },
          "metadata": {
            "tags": [],
            "needs_background": "light"
          }
        },
        {
          "output_type": "stream",
          "text": [
            "middle_layer = 39\n",
            "learning_rate = 0.17633888723330837\n",
            "batch_size = 9\n",
            "epochs = 252\n",
            "\n"
          ],
          "name": "stdout"
        }
      ]
    }
  ]
}