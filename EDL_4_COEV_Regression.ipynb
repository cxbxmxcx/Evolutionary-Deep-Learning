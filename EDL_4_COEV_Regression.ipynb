{
  "nbformat": 4,
  "nbformat_minor": 0,
  "metadata": {
    "colab": {
      "name": "EDL_4_COEV_Regression.ipynb",
      "provenance": [],
      "collapsed_sections": [],
      "authorship_tag": "ABX9TyPgPOxqrkqTVrJwg5LN4XsU",
      "include_colab_link": true
    },
    "kernelspec": {
      "name": "python3",
      "display_name": "Python 3"
    },
    "accelerator": "GPU"
  },
  "cells": [
    {
      "cell_type": "markdown",
      "metadata": {
        "id": "view-in-github",
        "colab_type": "text"
      },
      "source": [
        "<a href=\"https://colab.research.google.com/github/cxbxmxcx/Evolutionary-Deep-Learning/blob/main/EDL_4_COEV_Regression.ipynb\" target=\"_parent\"><img src=\"https://colab.research.google.com/assets/colab-badge.svg\" alt=\"Open In Colab\"/></a>"
      ]
    },
    {
      "cell_type": "markdown",
      "metadata": {
        "id": "ZWk8QVItlplD"
      },
      "source": [
        "Original Source: https://github.com/DEAP/deap/blob/master/examples/ga/onemax_numpy.py\n",
        "\n",
        "DEAP is free software: you can redistribute it and/or modify\n",
        "   it under the terms of the GNU Lesser General Public License as\n",
        "   published by the Free Software Foundation, either version 3 of\n",
        "   the License, or (at your option) any later version.\n",
        "\n",
        "   DEAP is distributed in the hope that it will be useful,\n",
        "   but WITHOUT ANY WARRANTY; without even the implied warranty of\n",
        "   MERCHANTABILITY or FITNESS FOR A PARTICULAR PURPOSE. See the\n",
        "   GNU Lesser General Public License for more details.\n",
        "   You should have received a copy of the GNU Lesser General Public\n",
        "   License along with DEAP. If not, see <http://www.gnu.org/licenses/>."
      ]
    },
    {
      "cell_type": "code",
      "metadata": {
        "id": "ct-pwA_aHMMa",
        "colab": {
          "base_uri": "https://localhost:8080/"
        },
        "outputId": "839ae510-f46a-4075-d9af-108bd10ddc39"
      },
      "source": [
        "#@title Install DEAP\n",
        "!pip install deap --quiet"
      ],
      "execution_count": null,
      "outputs": [
        {
          "output_type": "stream",
          "text": [
            "\u001b[?25l\r\u001b[K     |██                              | 10kB 23.3MB/s eta 0:00:01\r\u001b[K     |████▏                           | 20kB 17.9MB/s eta 0:00:01\r\u001b[K     |██████▏                         | 30kB 9.9MB/s eta 0:00:01\r\u001b[K     |████████▎                       | 40kB 8.2MB/s eta 0:00:01\r\u001b[K     |██████████▍                     | 51kB 5.3MB/s eta 0:00:01\r\u001b[K     |████████████▍                   | 61kB 6.2MB/s eta 0:00:01\r\u001b[K     |██████████████▌                 | 71kB 6.2MB/s eta 0:00:01\r\u001b[K     |████████████████▋               | 81kB 6.1MB/s eta 0:00:01\r\u001b[K     |██████████████████▋             | 92kB 6.1MB/s eta 0:00:01\r\u001b[K     |████████████████████▊           | 102kB 6.5MB/s eta 0:00:01\r\u001b[K     |██████████████████████▉         | 112kB 6.5MB/s eta 0:00:01\r\u001b[K     |████████████████████████▉       | 122kB 6.5MB/s eta 0:00:01\r\u001b[K     |███████████████████████████     | 133kB 6.5MB/s eta 0:00:01\r\u001b[K     |█████████████████████████████   | 143kB 6.5MB/s eta 0:00:01\r\u001b[K     |███████████████████████████████ | 153kB 6.5MB/s eta 0:00:01\r\u001b[K     |████████████████████████████████| 163kB 6.5MB/s \n",
            "\u001b[?25h"
          ],
          "name": "stdout"
        }
      ]
    },
    {
      "cell_type": "code",
      "metadata": {
        "id": "epVL5qPDHCPW"
      },
      "source": [
        "#@title Imports\n",
        "import operator\n",
        "import math\n",
        "import random\n",
        "import sys\n",
        "import time\n",
        "\n",
        "import numpy as np\n",
        "from deap import algorithms\n",
        "from deap import base\n",
        "from deap import creator\n",
        "from deap import tools\n",
        "from deap import gp\n",
        "\n",
        "from IPython.display import clear_output"
      ],
      "execution_count": null,
      "outputs": []
    },
    {
      "cell_type": "code",
      "metadata": {
        "id": "s3r8TiOjHYyy"
      },
      "source": [
        "#@title Setup Fitness Criteria\n",
        "#GA\n",
        "creator.create(\"FitnessMax\", base.Fitness, weights=(1.0,))\n",
        "creator.create(\"IndGA\", list, fitness=creator.FitnessMax)\n",
        "#GP\n",
        "creator.create(\"FitnessMin\", base.Fitness, weights=(-1.0,))\n",
        "creator.create(\"Individual\", gp.PrimitiveTree, fitness=creator.FitnessMin)"
      ],
      "execution_count": null,
      "outputs": []
    },
    {
      "cell_type": "code",
      "metadata": {
        "id": "pyIxODh06x9h"
      },
      "source": [
        "#@title Use Boston Housing dataset as input regression set\n",
        "from sklearn.datasets import load_boston\n",
        "X, y = load_boston(return_X_y=True)\n",
        "X = np.swapaxes(X,0,1)\n",
        "inputs = X.shape[0]"
      ],
      "execution_count": null,
      "outputs": []
    },
    {
      "cell_type": "markdown",
      "metadata": {
        "id": "V_QhZW_LJ6vY"
      },
      "source": [
        "# **Boston Housing Features**\n",
        "* CRIM: Per capita crime rate by town\n",
        "* ZN: Proportion of residential land zoned for lots over 25,000 sq. ft\n",
        "* INDUS: Proportion of non-retail business acres per town\n",
        "* CHAS: Charles River dummy variable (= 1 if tract bounds river; 0 otherwise)\n",
        "* NOX: Nitric oxide concentration (parts per 10 million)\n",
        "* RM: Average number of rooms per dwelling\n",
        "* AGE: Proportion of owner-occupied units built prior to 1940\n",
        "* DIS: Weighted distances to five Boston employment centers\n",
        "* RAD: Index of accessibility to radial highways\n",
        "* TAX: Full-value property tax rate per $10,000\n",
        "\n",
        "* PTRATIO: Pupil-teacher ratio by town\n",
        "* B: 1000(Bk — 0.63)², where Bk is the proportion of [people of African American descent] by town\n",
        "* LSTAT: Percentage of lower status of the population\n",
        "* TARGET = MEDV: Median value of owner-occupied homes in $1000s\n"
      ]
    },
    {
      "cell_type": "code",
      "metadata": {
        "colab": {
          "base_uri": "https://localhost:8080/",
          "height": 204
        },
        "id": "ydqapoiPI1kc",
        "outputId": "6b9ea0f9-e037-40ac-aec0-19a4eb74eefd"
      },
      "source": [
        "#@title Code to Inspect Dataset\n",
        "import pandas as pd\n",
        "boston_dataset = load_boston()\n",
        "boston = pd.DataFrame(boston_dataset.data, columns=boston_dataset.feature_names)\n",
        "boston.head()"
      ],
      "execution_count": null,
      "outputs": [
        {
          "output_type": "execute_result",
          "data": {
            "text/html": [
              "<div>\n",
              "<style scoped>\n",
              "    .dataframe tbody tr th:only-of-type {\n",
              "        vertical-align: middle;\n",
              "    }\n",
              "\n",
              "    .dataframe tbody tr th {\n",
              "        vertical-align: top;\n",
              "    }\n",
              "\n",
              "    .dataframe thead th {\n",
              "        text-align: right;\n",
              "    }\n",
              "</style>\n",
              "<table border=\"1\" class=\"dataframe\">\n",
              "  <thead>\n",
              "    <tr style=\"text-align: right;\">\n",
              "      <th></th>\n",
              "      <th>CRIM</th>\n",
              "      <th>ZN</th>\n",
              "      <th>INDUS</th>\n",
              "      <th>CHAS</th>\n",
              "      <th>NOX</th>\n",
              "      <th>RM</th>\n",
              "      <th>AGE</th>\n",
              "      <th>DIS</th>\n",
              "      <th>RAD</th>\n",
              "      <th>TAX</th>\n",
              "      <th>PTRATIO</th>\n",
              "      <th>B</th>\n",
              "      <th>LSTAT</th>\n",
              "    </tr>\n",
              "  </thead>\n",
              "  <tbody>\n",
              "    <tr>\n",
              "      <th>0</th>\n",
              "      <td>0.00632</td>\n",
              "      <td>18.0</td>\n",
              "      <td>2.31</td>\n",
              "      <td>0.0</td>\n",
              "      <td>0.538</td>\n",
              "      <td>6.575</td>\n",
              "      <td>65.2</td>\n",
              "      <td>4.0900</td>\n",
              "      <td>1.0</td>\n",
              "      <td>296.0</td>\n",
              "      <td>15.3</td>\n",
              "      <td>396.90</td>\n",
              "      <td>4.98</td>\n",
              "    </tr>\n",
              "    <tr>\n",
              "      <th>1</th>\n",
              "      <td>0.02731</td>\n",
              "      <td>0.0</td>\n",
              "      <td>7.07</td>\n",
              "      <td>0.0</td>\n",
              "      <td>0.469</td>\n",
              "      <td>6.421</td>\n",
              "      <td>78.9</td>\n",
              "      <td>4.9671</td>\n",
              "      <td>2.0</td>\n",
              "      <td>242.0</td>\n",
              "      <td>17.8</td>\n",
              "      <td>396.90</td>\n",
              "      <td>9.14</td>\n",
              "    </tr>\n",
              "    <tr>\n",
              "      <th>2</th>\n",
              "      <td>0.02729</td>\n",
              "      <td>0.0</td>\n",
              "      <td>7.07</td>\n",
              "      <td>0.0</td>\n",
              "      <td>0.469</td>\n",
              "      <td>7.185</td>\n",
              "      <td>61.1</td>\n",
              "      <td>4.9671</td>\n",
              "      <td>2.0</td>\n",
              "      <td>242.0</td>\n",
              "      <td>17.8</td>\n",
              "      <td>392.83</td>\n",
              "      <td>4.03</td>\n",
              "    </tr>\n",
              "    <tr>\n",
              "      <th>3</th>\n",
              "      <td>0.03237</td>\n",
              "      <td>0.0</td>\n",
              "      <td>2.18</td>\n",
              "      <td>0.0</td>\n",
              "      <td>0.458</td>\n",
              "      <td>6.998</td>\n",
              "      <td>45.8</td>\n",
              "      <td>6.0622</td>\n",
              "      <td>3.0</td>\n",
              "      <td>222.0</td>\n",
              "      <td>18.7</td>\n",
              "      <td>394.63</td>\n",
              "      <td>2.94</td>\n",
              "    </tr>\n",
              "    <tr>\n",
              "      <th>4</th>\n",
              "      <td>0.06905</td>\n",
              "      <td>0.0</td>\n",
              "      <td>2.18</td>\n",
              "      <td>0.0</td>\n",
              "      <td>0.458</td>\n",
              "      <td>7.147</td>\n",
              "      <td>54.2</td>\n",
              "      <td>6.0622</td>\n",
              "      <td>3.0</td>\n",
              "      <td>222.0</td>\n",
              "      <td>18.7</td>\n",
              "      <td>396.90</td>\n",
              "      <td>5.33</td>\n",
              "    </tr>\n",
              "  </tbody>\n",
              "</table>\n",
              "</div>"
            ],
            "text/plain": [
              "      CRIM    ZN  INDUS  CHAS    NOX  ...  RAD    TAX  PTRATIO       B  LSTAT\n",
              "0  0.00632  18.0   2.31   0.0  0.538  ...  1.0  296.0     15.3  396.90   4.98\n",
              "1  0.02731   0.0   7.07   0.0  0.469  ...  2.0  242.0     17.8  396.90   9.14\n",
              "2  0.02729   0.0   7.07   0.0  0.469  ...  2.0  242.0     17.8  392.83   4.03\n",
              "3  0.03237   0.0   2.18   0.0  0.458  ...  3.0  222.0     18.7  394.63   2.94\n",
              "4  0.06905   0.0   2.18   0.0  0.458  ...  3.0  222.0     18.7  396.90   5.33\n",
              "\n",
              "[5 rows x 13 columns]"
            ]
          },
          "metadata": {
            "tags": []
          },
          "execution_count": 5
        }
      ]
    },
    {
      "cell_type": "code",
      "metadata": {
        "id": "DP0BRxxAH1uh"
      },
      "source": [
        "#@title Add Genetic Operators to Toolbox for GA feature selection\n",
        "toolbox_ga = base.Toolbox()\n",
        "toolbox_ga.register(\"float\", random.uniform, -1, 1)\n",
        "toolbox_ga.register(\"individual\", tools.initRepeat, creator.IndGA, toolbox_ga.float, inputs)\n",
        "toolbox_ga.register(\"population\", tools.initRepeat, list, toolbox_ga.individual)\n",
        "\n",
        "toolbox_ga.register(\"select\", tools.selTournament, tournsize=3)\n",
        "toolbox_ga.register(\"mate\", tools.cxTwoPoint)\n",
        "toolbox_ga.register(\"mutate\", tools.mutGaussian, mu=0, sigma=0.01, indpb=0.05)"
      ],
      "execution_count": null,
      "outputs": []
    },
    {
      "cell_type": "code",
      "metadata": {
        "id": "bric4BDN9kZ8"
      },
      "source": [
        "def protectedDiv(left, right):\n",
        "  with np.errstate(divide='ignore',invalid='ignore'):\n",
        "    x = np.divide(left, right)\n",
        "    if isinstance(x, np.ndarray):\n",
        "      x[np.isinf(x)] = 1\n",
        "      x[np.isnan(x)] = 1\n",
        "    elif np.isinf(x) or np.isnan(x):\n",
        "      x = 1\n",
        "  return x\n",
        "\n",
        "#@title Create Set of Operators\n",
        "pset = gp.PrimitiveSet(\"MAIN\", inputs)\n",
        "pset.addPrimitive(np.add, 2, name=\"vadd\")\n",
        "pset.addPrimitive(np.subtract, 2, name=\"vsub\")\n",
        "pset.addPrimitive(np.multiply, 2, name=\"vmul\")\n",
        "pset.addPrimitive(protectedDiv, 2)\n",
        "pset.addPrimitive(np.negative, 1, name=\"vneg\")\n",
        "#pset.addPrimitive(np.cos, 1, name=\"vcos\")\n",
        "#pset.addPrimitive(np.sin, 1, name=\"vsin\")\n",
        "#pset.addEphemeralConstant(\"rand101\", lambda: random.randrange(-1000,1000))\n",
        "\n",
        "toolbox_gp = base.Toolbox()\n",
        "toolbox_gp.register(\"expr\", gp.genHalfAndHalf, pset=pset, min_=1, max_=2)\n",
        "toolbox_gp.register(\"individual\", tools.initIterate, creator.Individual, toolbox_gp.expr)\n",
        "toolbox_gp.register(\"population\", tools.initRepeat, list, toolbox_gp.individual)\n",
        "toolbox_gp.register(\"compile\", gp.compile, pset=pset)\n",
        "\n",
        "def evalSymbReg(individual, points):\n",
        "    # Transform the tree expression in a callable function\n",
        "    func = toolbox_gp.compile(expr=individual)\n",
        "    # Evaluate the mean squared error between the expression    \n",
        "    p = np.expand_dims(points, axis=1) \n",
        "    x = X * np.asarray(p) \n",
        "    diff = math.sqrt(np.sum((func(*x.tolist()) - y)**2))\n",
        "    return diff,    \n",
        "\n",
        "toolbox_gp.register(\"evaluate\", evalSymbReg, points=[x/10. for x in range(-10,10)])\n",
        "toolbox_gp.register(\"select\", tools.selTournament, tournsize=3)\n",
        "toolbox_gp.register(\"mate\", gp.cxOnePoint)\n",
        "toolbox_gp.register(\"expr_mut\", gp.genFull, min_=0, max_=2)\n",
        "toolbox_gp.register(\"mutate\", gp.mutUniform, expr=toolbox_gp.expr_mut, pset=pset)\n",
        "\n",
        "toolbox_gp.decorate(\"mate\", gp.staticLimit(key=operator.attrgetter(\"height\"), max_value=5))\n",
        "toolbox_gp.decorate(\"mutate\", gp.staticLimit(key=operator.attrgetter(\"height\"), max_value=5))"
      ],
      "execution_count": null,
      "outputs": []
    },
    {
      "cell_type": "code",
      "metadata": {
        "id": "UM87TusHv8ab"
      },
      "source": [
        "#@title Code to Plot the Expression Tree\n",
        "import matplotlib.pyplot as plt\n",
        "import networkx as nx\n",
        "\n",
        "def plot_expression(individual):\n",
        "  options = {\"node_size\": 500, \"alpha\": 0.8}\n",
        "  nodes, edges, labels = gp.graph(individual)\n",
        "\n",
        "  g = nx.Graph()\n",
        "  g.add_nodes_from(nodes)\n",
        "  g.add_edges_from(edges)\n",
        "  \n",
        "  pos = nx.spring_layout(g)  \n",
        "  nx.draw_networkx_nodes(g, pos, **options)\n",
        "  nx.draw_networkx_edges(g, pos, width=1.0, alpha=0.5)\n",
        "  nx.draw_networkx_labels(g, pos, labels, font_size=9, font_color='k')  \n",
        "  plt.show()"
      ],
      "execution_count": null,
      "outputs": []
    },
    {
      "cell_type": "code",
      "metadata": {
        "id": "FC0-B2wAID9Z"
      },
      "source": [
        "#@title Run the Evolution\n",
        "GA_GEN, GP_GEN, BASE_POP = 1, 10, 10000\n",
        "pop_ga = toolbox_ga.population(n=BASE_POP*GA_GEN)\n",
        "pop_gp = toolbox_gp.population(n=BASE_POP*GP_GEN)\n",
        "\n",
        "stats = tools.Statistics(lambda ind: ind.fitness.values)\n",
        "stats.register(\"avg\", np.mean)\n",
        "stats.register(\"std\", np.std)\n",
        "stats.register(\"min\", np.min)\n",
        "stats.register(\"max\", np.max)\n",
        "\n",
        "logbook = tools.Logbook()\n",
        "logbook.header = \"gen\", \"type\", \"evals\", \"std\", \"min\", \"avg\", \"max\"\n",
        "\n",
        "best_ga = tools.selRandom(pop_ga, 1)[0]\n",
        "best_gp = tools.selRandom(pop_gp, 1)[0]\n",
        "\n",
        "for ind in pop_gp:\n",
        "    ind.fitness.values = toolbox_gp.evaluate(ind, points=best_ga)  \n",
        "\n",
        "for ind in pop_ga:\n",
        "    ind.fitness.values = toolbox_gp.evaluate(best_gp, points=ind)\n",
        "\n",
        "record = stats.compile(pop_ga)\n",
        "logbook.record(gen=0, type='ga', evals=len(pop_ga), **record)\n",
        "\n",
        "record = stats.compile(pop_gp)\n",
        "logbook.record(gen=0, type='gp', evals=len(pop_gp), **record)\n",
        "    \n"
      ],
      "execution_count": null,
      "outputs": []
    },
    {
      "cell_type": "code",
      "metadata": {
        "colab": {
          "base_uri": "https://localhost:8080/",
          "height": 584
        },
        "id": "zOP4QpDR-cb8",
        "outputId": "68f9105b-adfb-4f78-e440-9121c932771a"
      },
      "source": [
        "print(logbook.stream)\n",
        "    \n",
        "CXPB, MUTPB, NGEN = 0.5, 0.2, 100\n",
        "\n",
        "done = False\n",
        "# Begin the evolution\n",
        "for g in range(1, NGEN):\n",
        "    if done: break   \n",
        "\n",
        "    if (g+1) % GA_GEN == 0:     \n",
        "      # Select and clone the offspring\n",
        "      off_ga = toolbox_ga.select(pop_ga, len(pop_ga))    \n",
        "      off_ga = [toolbox_ga.clone(ind) for ind in off_ga]\n",
        "\n",
        "      # Apply crossover and mutation\n",
        "      for ind1, ind2 in zip(off_ga[::2], off_ga[1::2]):\n",
        "          if random.random() < CXPB:\n",
        "              toolbox_ga.mate(ind1, ind2)\n",
        "              del ind1.fitness.values\n",
        "              del ind2.fitness.values\n",
        "\n",
        "      for ind in off_ga:\n",
        "          if random.random() < MUTPB:\n",
        "              toolbox_ga.mutate(ind)\n",
        "              del ind.fitness.values      \n",
        "\n",
        "      pop_ga = off_ga\n",
        "    \n",
        "    if (g+1) % GP_GEN == 0:\n",
        "      off_gp = toolbox_gp.select(pop_gp, len(pop_gp))        \n",
        "      off_gp = [toolbox_gp.clone(ind) for ind in off_gp]    \n",
        "\n",
        "      for ind1, ind2 in zip(off_gp[::2], off_gp[1::2]):\n",
        "          if random.random() < CXPB:\n",
        "              toolbox_gp.mate(ind1, ind2)\n",
        "              del ind1.fitness.values\n",
        "              del ind2.fitness.values    \n",
        "\n",
        "      for ind in off_gp:\n",
        "          if random.random() < MUTPB:\n",
        "              toolbox_gp.mutate(ind)\n",
        "              del ind.fitness.values      \n",
        "              \n",
        "      # Replace the old population by the offspring\n",
        "      pop_gp = off_gp\n",
        "\n",
        "    # Evaluate the individuals with an invalid fitness \n",
        "    for ind in pop_gp:\n",
        "        ind.fitness.values = toolbox_gp.evaluate(ind, points=best_ga)\n",
        "    for ind in pop_ga:\n",
        "        ind.fitness.values = toolbox_gp.evaluate(best_gp, points=ind)   \n",
        "    \n",
        "    record = stats.compile(pop_ga)\n",
        "    best_ga_min = record[\"min\"]\n",
        "    logbook.record(gen=g, type='ga', evals=len(pop_ga), **record)\n",
        "    \n",
        "    record = stats.compile(pop_gp)\n",
        "    best_gp_min = record[\"min\"]\n",
        "    logbook.record(gen=g, type='gp', evals=len(pop_gp), **record)\n",
        "    #print(logbook.stream)    \n",
        "    print(record)\n",
        "    \n",
        "    best_ga = tools.selBest(pop_ga, 1)[0]\n",
        "    best_gp = tools.selBest(pop_gp, 1)[0]\n",
        "    \n",
        "    if best_gp_min < 135:\n",
        "        done = True\n",
        "        print(\"Sovled\")\n",
        "\n",
        "    if (g+1) % 1 == 0:           \n",
        "      clear_output()            \n",
        "      print(logbook.stream)\n",
        "      plot_expression(best_gp) \n",
        "      output = [\"%.2f\" % e for e in best_ga]\n",
        "      print(f\"Best GA {output}\")      \n",
        "      time.sleep(1)\n",
        "\n",
        "print(\"Best individual GA is %s, %s\" % (best_ga, best_ga.fitness.values))\n",
        "print(\"Best individual GP is %s, %s\" % (best_gp, best_gp.fitness.values))\n",
        "plot_expression(best_gp)"
      ],
      "execution_count": null,
      "outputs": [
        {
          "output_type": "stream",
          "text": [
            "7  \tga  \t10000 \t186429     \t181.891\t11623      \t5.00766e+06\n",
            "7  \tgp  \t100000\t4.79252e+07\t132.819\t438389     \t1.09956e+10\n"
          ],
          "name": "stdout"
        },
        {
          "output_type": "display_data",
          "data": {
            "image/png": "[encoded data removed]",
            "text/plain": [
              "<Figure size 432x288 with 1 Axes>"
            ]
          },
          "metadata": {
            "tags": []
          }
        },
        {
          "output_type": "stream",
          "text": [
            "Best GA ['-0.69', '-0.33', '-0.32', '0.87', '-0.14', '-0.41', '-0.63', '-0.81', '-0.22', '-0.22', '0.00', '-0.68', '0.56']\n",
            "Best individual GA is [-0.6919484548892272, -0.3287073595205429, -0.3207594169106478, 0.8678545621839866, -0.14314290221742562, -0.41431482780896367, -0.632926578255858, -0.8082458790120199, -0.22126560977128062, -0.21669473770723569, 0.00012521402383280922, -0.6780013162278722, 0.5614361682779685], (5007661.81314819,)\n",
            "Best individual GP is vsub(vmul(ARG5, ARG5), ARG12), (132.81855590742074,)\n"
          ],
          "name": "stdout"
        },
        {
          "output_type": "display_data",
          "data": {
            "image/png": "[encoded data removed]",
            "text/plain": [
              "<Figure size 432x288 with 1 Axes>"
            ]
          },
          "metadata": {
            "tags": []
          }
        }
      ]
    }
  ]
}