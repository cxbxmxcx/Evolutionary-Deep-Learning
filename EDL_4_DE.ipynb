{
  "nbformat": 4,
  "nbformat_minor": 0,
  "metadata": {
    "colab": {
      "name": "EDL_4_DE.ipynb",
      "provenance": [],
      "collapsed_sections": [],
      "authorship_tag": "ABX9TyN5kN2RA0r5MWYBRB7fi3pa",
      "include_colab_link": true
    },
    "kernelspec": {
      "name": "python3",
      "display_name": "Python 3"
    }
  },
  "cells": [
    {
      "cell_type": "markdown",
      "metadata": {
        "id": "view-in-github",
        "colab_type": "text"
      },
      "source": [
        "<a href=\"https://colab.research.google.com/github/cxbxmxcx/Evolutionary-Deep-Learning/blob/main/EDL_4_DE.ipynb\" target=\"_parent\"><img src=\"https://colab.research.google.com/assets/colab-badge.svg\" alt=\"Open In Colab\"/></a>"
      ]
    },
    {
      "cell_type": "markdown",
      "metadata": {
        "id": "ZWk8QVItlplD"
      },
      "source": [
        "Original Source: https://github.com/DEAP/deap/blob/master/examples/ga/onemax_numpy.py\n",
        "\n",
        "DEAP is free software: you can redistribute it and/or modify\n",
        "   it under the terms of the GNU Lesser General Public License as\n",
        "   published by the Free Software Foundation, either version 3 of\n",
        "   the License, or (at your option) any later version.\n",
        "\n",
        "   DEAP is distributed in the hope that it will be useful,\n",
        "   but WITHOUT ANY WARRANTY; without even the implied warranty of\n",
        "   MERCHANTABILITY or FITNESS FOR A PARTICULAR PURPOSE. See the\n",
        "   GNU Lesser General Public License for more details.\n",
        "   You should have received a copy of the GNU Lesser General Public\n",
        "   License along with DEAP. If not, see <http://www.gnu.org/licenses/>."
      ]
    },
    {
      "cell_type": "code",
      "metadata": {
        "id": "ct-pwA_aHMMa",
        "colab": {
          "base_uri": "https://localhost:8080/"
        },
        "outputId": "49362e38-3cb0-4b53-9f21-5e4d3981bae0"
      },
      "source": [
        "#@title Install DEAP\n",
        "!pip install deap --quiet"
      ],
      "execution_count": null,
      "outputs": [
        {
          "output_type": "stream",
          "text": [
            "\u001b[?25l\r\u001b[K     |██                              | 10kB 15.4MB/s eta 0:00:01\r\u001b[K     |████▏                           | 20kB 20.8MB/s eta 0:00:01\r\u001b[K     |██████▏                         | 30kB 12.4MB/s eta 0:00:01\r\u001b[K     |████████▎                       | 40kB 9.1MB/s eta 0:00:01\r\u001b[K     |██████████▍                     | 51kB 5.7MB/s eta 0:00:01\r\u001b[K     |████████████▍                   | 61kB 5.2MB/s eta 0:00:01\r\u001b[K     |██████████████▌                 | 71kB 5.8MB/s eta 0:00:01\r\u001b[K     |████████████████▋               | 81kB 6.3MB/s eta 0:00:01\r\u001b[K     |██████████████████▋             | 92kB 6.2MB/s eta 0:00:01\r\u001b[K     |████████████████████▊           | 102kB 6.7MB/s eta 0:00:01\r\u001b[K     |██████████████████████▉         | 112kB 6.7MB/s eta 0:00:01\r\u001b[K     |████████████████████████▉       | 122kB 6.7MB/s eta 0:00:01\r\u001b[K     |███████████████████████████     | 133kB 6.7MB/s eta 0:00:01\r\u001b[K     |█████████████████████████████   | 143kB 6.7MB/s eta 0:00:01\r\u001b[K     |███████████████████████████████ | 153kB 6.7MB/s eta 0:00:01\r\u001b[K     |████████████████████████████████| 163kB 6.7MB/s \n",
            "\u001b[?25h"
          ],
          "name": "stdout"
        }
      ]
    },
    {
      "cell_type": "code",
      "metadata": {
        "id": "epVL5qPDHCPW"
      },
      "source": [
        "#@title Imports\n",
        "import random\n",
        "import array\n",
        "import time\n",
        "\n",
        "import numpy as np\n",
        "\n",
        "from deap import base\n",
        "from deap import benchmarks\n",
        "from deap import creator\n",
        "from deap import tools\n",
        "\n",
        "%matplotlib inline\n",
        "import matplotlib.pyplot as plt\n",
        "from IPython.display import clear_output"
      ],
      "execution_count": null,
      "outputs": []
    },
    {
      "cell_type": "code",
      "metadata": {
        "id": "m9M4DgcgK3Tr"
      },
      "source": [
        "#@title Hyperparameters\n",
        "NDIM = 6\n",
        "CR = 0.25\n",
        "F = 1  \n",
        "MU = 300\n",
        "NGEN = 1000  \n",
        "GEN_OUTPUT = 25\n",
        "MAX_TIME = 5"
      ],
      "execution_count": null,
      "outputs": []
    },
    {
      "cell_type": "code",
      "metadata": {
        "id": "s3r8TiOjHYyy"
      },
      "source": [
        "#@title Setup Fitness Criteria\n",
        "creator.create(\"FitnessMin\", base.Fitness, weights=(-1.0,))\n",
        "creator.create(\"Individual\", array.array, typecode='d', fitness=creator.FitnessMin)"
      ],
      "execution_count": null,
      "outputs": []
    },
    {
      "cell_type": "code",
      "metadata": {
        "id": "DP0BRxxAH1uh"
      },
      "source": [
        "#@title Add Genetic Operators to Toolbox\n",
        "toolbox = base.Toolbox()\n",
        "toolbox.register(\"attr_float\", random.uniform, -3, 3)\n",
        "toolbox.register(\"individual\", tools.initRepeat, creator.Individual, toolbox.attr_float, NDIM)\n",
        "toolbox.register(\"population\", tools.initRepeat, list, toolbox.individual)\n",
        "toolbox.register(\"select\", tools.selRandom, k=3)"
      ],
      "execution_count": null,
      "outputs": []
    },
    {
      "cell_type": "code",
      "metadata": {
        "colab": {
          "base_uri": "https://localhost:8080/",
          "height": 282
        },
        "id": "OWfZMKx3MAcX",
        "outputId": "118a625d-58d8-4be6-9662-9f6c2297b2bf"
      },
      "source": [
        "#@title Generate regression data\n",
        "equation_form = \"step\" #@param [\"polynomial\", \"abs\", \"step\"]\n",
        "\n",
        "X_START = -5\n",
        "X_END = 5\n",
        "X_STEP = 0.5\n",
        "\n",
        "def equation(x):\n",
        "  if equation_form == \"polynomial\":\n",
        "    return (2*x + 3*x**2 + 4*x**3 + 5*x**4 + 6*x**5 + 10) \n",
        "  elif equation_form == \"abs\":    \n",
        "    return abs(x)\n",
        "  else:    \n",
        "    return np.where(x>1, 1, 0)     \n",
        "\n",
        "X = np.array([x for x in np.arange(X_START, X_END, X_STEP)])\n",
        "Y = equation(X)\n",
        "data = list(zip(X, Y))\n",
        "\n",
        "plt.scatter(X,Y)"
      ],
      "execution_count": null,
      "outputs": [
        {
          "output_type": "execute_result",
          "data": {
            "text/plain": [
              "<matplotlib.collections.PathCollection at 0x7f36294f07d0>"
            ]
          },
          "metadata": {
            "tags": []
          },
          "execution_count": 6
        },
        {
          "output_type": "display_data",
          "data": {
            "image/png": "[encoded data removed]",
            "text/plain": [
              "<Figure size 432x288 with 1 Axes>"
            ]
          },
          "metadata": {
            "tags": [],
            "needs_background": "light"
          }
        }
      ]
    },
    {
      "cell_type": "code",
      "metadata": {
        "id": "-RS30hHBKe9L"
      },
      "source": [
        "import csv\n",
        "with open('data.csv', 'w') as f:      \n",
        "    # using csv.writer method from CSV package\n",
        "    write = csv.writer(f)      \n",
        "    write.writerows(data)"
      ],
      "execution_count": null,
      "outputs": []
    },
    {
      "cell_type": "code",
      "metadata": {
        "id": "UM87TusHv8ab"
      },
      "source": [
        "#@title Evaluation of fitness\n",
        "def pred(ind, x):    \n",
        "  y_ = 0.0    \n",
        "  for i in range(1,NDIM):\n",
        "    y_ += ind[i-1]*x**i    \n",
        "  y_ += ind[NDIM-1]       \n",
        "  return y_\n",
        "\n",
        "def fitness(ind, data):    \n",
        "  mse = 0.0    \n",
        "  for x, y in data:        \n",
        "    y_ = pred(ind, x)\n",
        "    mse += (y - y_)**2        \n",
        "  return mse/len(data),\n",
        "\n",
        "# fitness eval\n",
        "toolbox.register(\"evaluate\", fitness, data=data)"
      ],
      "execution_count": null,
      "outputs": []
    },
    {
      "cell_type": "code",
      "metadata": {
        "id": "FUWLROMvM1z6"
      },
      "source": [
        "#@title Plot Fitness\n",
        "def plot_fitness(g, best, pop, logbook):\n",
        "  Y_ = np.array([pred(best, x) for x in X])\n",
        "  clear_output()\n",
        "  print(f\"Generation {g}, Best {best}\") \n",
        "  print(logbook.stream)\n",
        "  fits = [f.fitness.values[0] for f in pop]  \n",
        "  plt.hist(fits)\n",
        "  plt.show()\n",
        "  plt.scatter(X,Y)\n",
        "  plt.plot(X,Y_, 'r')\n",
        "  plt.show()   "
      ],
      "execution_count": null,
      "outputs": []
    },
    {
      "cell_type": "code",
      "metadata": {
        "colab": {
          "base_uri": "https://localhost:8080/",
          "height": 999
        },
        "id": "QvsWliTQiI7j",
        "outputId": "847e3e38-b9a7-4798-c3c8-9e9b4f3dadf8"
      },
      "source": [
        "pop = toolbox.population(n=MU);\n",
        "hof = tools.HallOfFame(1)\n",
        "stats = tools.Statistics(lambda ind: ind.fitness.values)\n",
        "stats.register(\"avg\", np.mean)\n",
        "stats.register(\"std\", np.std)\n",
        "stats.register(\"min\", np.min)\n",
        "stats.register(\"max\", np.max)\n",
        "\n",
        "logbook = tools.Logbook()\n",
        "logbook.header = \"gen\", \"evals\", \"std\", \"min\", \"avg\", \"max\"\n",
        "\n",
        "# Evaluate the individuals\n",
        "fitnesses = toolbox.map(toolbox.evaluate, pop)\n",
        "for ind, fit in zip(pop, fitnesses):\n",
        "    ind.fitness.values = fit\n",
        "\n",
        "record = stats.compile(pop)\n",
        "logbook.record(gen=0, evals=len(pop), **record)\n",
        "print(logbook.stream)\n",
        "start = time.time()\n",
        "for g in range(1, NGEN):\n",
        "  for k, agent in enumerate(pop):\n",
        "    a,b,c = toolbox.select(pop)\n",
        "    y = toolbox.clone(agent)\n",
        "    index = random.randrange(NDIM)\n",
        "    for i, value in enumerate(agent):\n",
        "      if i == index or random.random() < CR:\n",
        "        y[i] = a[i] + F*(b[i]-c[i])\n",
        "    y.fitness.values = toolbox.evaluate(y)\n",
        "    if y.fitness > agent.fitness:\n",
        "      pop[k] = y            \n",
        "  hof.update(pop)    \n",
        "  record = stats.compile(pop)\n",
        "  logbook.record(gen=g, evals=len(pop), **record)\n",
        "  if (g+1) % GEN_OUTPUT == 0:\n",
        "    plot_fitness(g, hof[0], pop, logbook) \n",
        "    end = time.time()\n",
        "    if end-start > MAX_TIME:\n",
        "      break\n",
        "\n",
        "print(\"Best individual is \", hof[0], hof[0].fitness.values[0])\n"
      ],
      "execution_count": null,
      "outputs": [
        {
          "output_type": "stream",
          "text": [
            "Generation 749, Best Individual('d', [-4270.163373473781, -2840.3755783572474, -366.76675319439596, 521.1126580908735, -8687.095296549971, -5292.73800286456, 296.2882872619894, -81.15843777770056, 58.94646822852273, 121.92223178223242, -7.831043088248254, -4.143751464044469, 2.3406741818840446, -0.08355947138178577, -0.10014941890732065, -661.5259092533579])\n",
            "725\t300  \t1.83791e+16\t3.53851e+14\t1.61459e+16\t1.54777e+17\n",
            "726\t300  \t1.83795e+16\t3.53851e+14\t1.61407e+16\t1.54777e+17\n",
            "727\t300  \t1.83795e+16\t3.53851e+14\t1.61407e+16\t1.54777e+17\n",
            "728\t300  \t1.83796e+16\t3.53851e+14\t1.61325e+16\t1.54777e+17\n",
            "729\t300  \t1.83834e+16\t3.53851e+14\t1.60954e+16\t1.54777e+17\n",
            "730\t300  \t1.83838e+16\t3.53851e+14\t1.60948e+16\t1.54777e+17\n",
            "731\t300  \t1.83838e+16\t3.53851e+14\t1.60891e+16\t1.54777e+17\n",
            "732\t300  \t1.83816e+16\t3.53851e+14\t1.60853e+16\t1.54754e+17\n",
            "733\t300  \t1.83884e+16\t3.53851e+14\t1.60654e+16\t1.54754e+17\n",
            "734\t300  \t1.8378e+16 \t3.53851e+14\t1.60363e+16\t1.54754e+17\n",
            "735\t300  \t1.83843e+16\t3.53851e+14\t1.60178e+16\t1.54754e+17\n",
            "736\t300  \t1.83831e+16\t3.53851e+14\t1.60147e+16\t1.54754e+17\n",
            "737\t300  \t1.83659e+16\t3.53851e+14\t1.60055e+16\t1.54754e+17\n",
            "738\t300  \t1.83667e+16\t3.53851e+14\t1.60032e+16\t1.54754e+17\n",
            "739\t300  \t1.83563e+16\t3.53851e+14\t1.59917e+16\t1.54754e+17\n",
            "740\t300  \t1.83566e+16\t3.53851e+14\t1.59905e+16\t1.54754e+17\n",
            "741\t300  \t1.83128e+16\t3.53851e+14\t1.59441e+16\t1.54754e+17\n",
            "742\t300  \t1.83046e+16\t3.53851e+14\t1.59277e+16\t1.54754e+17\n",
            "743\t300  \t1.82736e+16\t3.53851e+14\t1.58986e+16\t1.54754e+17\n",
            "744\t300  \t1.8276e+16 \t3.53851e+14\t1.58862e+16\t1.54754e+17\n",
            "745\t300  \t1.82766e+16\t3.53851e+14\t1.58853e+16\t1.54754e+17\n",
            "746\t300  \t1.82789e+16\t3.53851e+14\t1.58755e+16\t1.54754e+17\n",
            "747\t300  \t1.8277e+16 \t3.53851e+14\t1.58712e+16\t1.54754e+17\n",
            "748\t300  \t1.82766e+16\t3.53851e+14\t1.587e+16  \t1.54754e+17\n",
            "749\t300  \t1.82766e+16\t3.53851e+14\t1.587e+16  \t1.54754e+17\n"
          ],
          "name": "stdout"
        },
        {
          "output_type": "display_data",
          "data": {
            "image/png": "[encoded data removed]",
            "text/plain": [
              "<Figure size 432x288 with 1 Axes>"
            ]
          },
          "metadata": {
            "tags": [],
            "needs_background": "light"
          }
        },
        {
          "output_type": "display_data",
          "data": {
            "image/png": "[encoded data removed]",
            "text/plain": [
              "<Figure size 432x288 with 1 Axes>"
            ]
          },
          "metadata": {
            "tags": [],
            "needs_background": "light"
          }
        }
      ]
    }
  ]
}