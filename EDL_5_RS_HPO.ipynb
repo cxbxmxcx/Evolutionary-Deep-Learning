{
  "nbformat": 4,
  "nbformat_minor": 0,
  "metadata": {
    "colab": {
      "name": "EDL_5_RS_HPO.ipynb",
      "provenance": [],
      "collapsed_sections": [],
      "toc_visible": true,
      "authorship_tag": "ABX9TyPi9rLfU1lrDnepEDvzQtHO",
      "include_colab_link": true
    },
    "kernelspec": {
      "name": "python3",
      "display_name": "Python 3"
    }
  },
  "cells": [
    {
      "cell_type": "markdown",
      "metadata": {
        "id": "view-in-github",
        "colab_type": "text"
      },
      "source": [
        "<a href=\"https://colab.research.google.com/github/cxbxmxcx/Evolutionary-Deep-Learning/blob/main/EDL_5_RS_HPO.ipynb\" target=\"_parent\"><img src=\"https://colab.research.google.com/assets/colab-badge.svg\" alt=\"Open In Colab\"/></a>"
      ]
    },
    {
      "cell_type": "markdown",
      "metadata": {
        "id": "7eo9h5KA5UPe"
      },
      "source": [
        "# Setup"
      ]
    },
    {
      "cell_type": "code",
      "metadata": {
        "id": "FslekLiVp_Il"
      },
      "source": [
        "#@title Defining Imports\n",
        "#numpy\n",
        "import numpy as np\n",
        "#PyTorch\n",
        "import torch\n",
        "import torch.nn as nn\n",
        "from torch.autograd import Variable\n",
        "import torch.nn.functional as F\n",
        "import torch.optim as optim\n",
        "from torch.utils.data import TensorDataset, DataLoader\n",
        "#plotting\n",
        "from matplotlib import pyplot as plt\n",
        "from IPython.display import clear_output\n",
        "#for performance timing\n",
        "import time\n",
        "#ranodm\n",
        "import random"
      ],
      "execution_count": null,
      "outputs": []
    },
    {
      "cell_type": "code",
      "metadata": {
        "colab": {
          "base_uri": "https://localhost:8080/",
          "height": 71
        },
        "id": "MQCdK2oWJlid",
        "outputId": "2dc757c6-b07b-4fd5-e77b-d914bb4d2760"
      },
      "source": [
        "def function(x):\n",
        "  return (2*x + 3*x**2 + 4*x**3 + 5*x**4 + 6*x**5 + 10) \n",
        "\n",
        "data_min = -5\n",
        "data_max = 5\n",
        "data_step = .5\n",
        "Xi = np.reshape(np.arange(data_min, data_max, data_step), (-1, 1))\n",
        "yi = function(Xi)\n",
        "inputs = Xi.shape[1]\n",
        "yi = yi.reshape(-1, 1)\n",
        "plt.plot(Xi, yi, 'o', color='black')"
      ],
      "execution_count": null,
      "outputs": [
        {
          "output_type": "execute_result",
          "data": {
            "text/plain": [
              "[<matplotlib.lines.Line2D at 0x7fdd9bdccb10>]"
            ]
          },
          "metadata": {
            "tags": []
          },
          "execution_count": 2
        },
        {
          "output_type": "display_data",
          "data": {
            "image/png": "[encoded data removed]",
            "text/plain": [
              "<Figure size 432x288 with 1 Axes>"
            ]
          },
          "metadata": {
            "tags": [],
            "needs_background": "light"
          }
        }
      ]
    },
    {
      "cell_type": "code",
      "metadata": {
        "id": "eY30bijNqNBL"
      },
      "source": [
        "#@title Define the Model\n",
        "class Net(nn.Module):\n",
        "  def __init__(self, inputs, middle):\n",
        "    super().__init__()\n",
        "    self.fc1 = nn.Linear(inputs,middle)    \n",
        "    self.fc2 = nn.Linear(middle,middle)    \n",
        "    self.out = nn.Linear(middle,1)\n",
        "  def forward(self, x):\n",
        "    x = F.relu(self.fc1(x))     \n",
        "    x = F.relu(self.fc2(x))    \n",
        "    x = self.out(x)\n",
        "    return x"
      ],
      "execution_count": null,
      "outputs": []
    },
    {
      "cell_type": "code",
      "metadata": {
        "id": "nsBRAusqy7Uz"
      },
      "source": [
        "#@title Define Hyperparameters Class\n",
        "class Hyperparameters(object):\n",
        "  def __init__(self, **kwargs):\n",
        "    self.__dict__.update(kwargs)\n",
        "  \n",
        "  def __str__(self):\n",
        "    out = \"\"\n",
        "    for d in self.__dict__:\n",
        "      ds = self.__dict__[d]\n",
        "      out += f\"{d} = {ds}\\n\"\n",
        "    return out\n",
        "\n",
        "  def next(self):\n",
        "    dict = {}\n",
        "    for d in self.__dict__:\n",
        "      dict[d] = next(self.__dict__[d])\n",
        "    return Hyperparameters(**dict)\n",
        "\n",
        "def sampler(func, min, max):\n",
        "  while True:\n",
        "    yield func(min,max)"
      ],
      "execution_count": null,
      "outputs": []
    },
    {
      "cell_type": "markdown",
      "metadata": {
        "id": "TrxTh7lrTjgz"
      },
      "source": [
        "# Create the Hyperparameters"
      ]
    },
    {
      "cell_type": "code",
      "metadata": {
        "colab": {
          "base_uri": "https://localhost:8080/"
        },
        "id": "ciFUE2XDzhMk",
        "outputId": "a9606ba6-d70e-46c7-80e5-67e1576c0a28"
      },
      "source": [
        "#@title Instantiate Hyperparameters \n",
        "hp = Hyperparameters(\n",
        "  epochs = sampler(random.randint,20,400),\n",
        "  middle_layer = sampler(random.randint, 8, 64),  \n",
        "  learning_rate = sampler(random.uniform,3.5e-01,3.5e-03),\n",
        "  batch_size = sampler(random.randint, 4, 64)  \n",
        ")\n",
        "\n",
        "#sample\n",
        "print(hp.next())"
      ],
      "execution_count": null,
      "outputs": [
        {
          "output_type": "stream",
          "text": [
            "epochs = 305\n",
            "middle_layer = 40\n",
            "learning_rate = 0.04043063145242942\n",
            "batch_size = 40\n",
            "\n"
          ],
          "name": "stdout"
        }
      ]
    },
    {
      "cell_type": "markdown",
      "metadata": {
        "id": "zCbrGhsr6IhK"
      },
      "source": [
        "# Create the Training Function"
      ]
    },
    {
      "cell_type": "code",
      "metadata": {
        "colab": {
          "base_uri": "https://localhost:8080/",
          "height": 269
        },
        "id": "rm843_KFxy6Y",
        "outputId": "2cf842ff-3e76-43f5-b066-c5657061bcdc"
      },
      "source": [
        "def sample_train_function(hp):\n",
        "  hp = hp.next() \n",
        "  \n",
        "  X = np.reshape(\n",
        "      np.arange(\n",
        "          data_min, \n",
        "          data_max, \n",
        "          data_step)\n",
        "      , (-1, 1))\n",
        "  y = function(X)\n",
        "  inputs = X.shape[1]\n",
        "  y = y.reshape(-1, 1)\n",
        "  plt.plot(X, y, 'o', color='black')\n",
        "\n",
        "sample_train_function(hp)"
      ],
      "execution_count": null,
      "outputs": [
        {
          "output_type": "display_data",
          "data": {
            "image/png": "[encoded data removed]",
            "text/plain": [
              "<Figure size 432x288 with 1 Axes>"
            ]
          },
          "metadata": {
            "tags": [],
            "needs_background": "light"
          }
        }
      ]
    },
    {
      "cell_type": "code",
      "metadata": {
        "colab": {
          "base_uri": "https://localhost:8080/",
          "height": 293
        },
        "id": "je4Jf9Vp88Rq",
        "outputId": "9bfc46c6-679e-45c2-d7b2-ed55486d4c1c"
      },
      "source": [
        "#@title The Main Training Function\n",
        "def train_function(hp, best):\n",
        "  hp = hp.next()\n",
        " \n",
        "  X = np.reshape(\n",
        "      np.arange(\n",
        "          data_min, \n",
        "          data_max, \n",
        "          data_step)\n",
        "      , (-1, 1))\n",
        "  y = function(X)\n",
        "  inputs = X.shape[1]\n",
        "  \n",
        "  tensor_x = torch.Tensor(X) # transform to torch tensor\n",
        "  tensor_y = torch.Tensor(y)\n",
        "  \n",
        "  dataset = TensorDataset(tensor_x,tensor_y) # create your datset\n",
        "  dataloader = DataLoader(dataset, batch_size= hp.batch_size, shuffle=True) # create your dataloader\n",
        "\n",
        "  model = Net(inputs, hp.middle_layer)\n",
        "\n",
        "  loss_fn = nn.MSELoss()\n",
        "  optimizer = optim.Adam(model.parameters(), lr=hp.learning_rate)\n",
        "  history=[]  \n",
        "  start = time.time()\n",
        "  for i in range(hp.epochs):        \n",
        "    for X, y in iter(dataloader):\n",
        "      # wrap the data in variables\n",
        "      x_batch = Variable(torch.Tensor(X))\n",
        "      y_batch = Variable(torch.Tensor(y))                   \n",
        "      # forward pass\n",
        "      y_pred = model(x_batch)        \n",
        "      # compute and print loss\n",
        "      loss = loss_fn(y_pred, y_batch)  \n",
        "      ll = loss.data\n",
        "      history.append(ll)\n",
        "      if ll < best and i>100:\n",
        "        end = time.time() - start\n",
        "        return end, history, model, hp               \n",
        "      # reset gradients\n",
        "      optimizer.zero_grad()        \n",
        "      # backwards pass\n",
        "      loss.backward()        \n",
        "      # step the optimizer - update the weights\n",
        "      optimizer.step()  \n",
        "  end = time.time() - start\n",
        "  return end, history, model, hp\n",
        "\n",
        "best = float(\"inf\")\n",
        "span, history, model, hp_out = train_function(hp, best)\n",
        "plt.plot(history)\n",
        "print(min(history).item())"
      ],
      "execution_count": null,
      "outputs": [
        {
          "output_type": "stream",
          "text": [
            "20043.39453125\n"
          ],
          "name": "stdout"
        },
        {
          "output_type": "display_data",
          "data": {
            "image/png": "[encoded data removed]",
            "text/plain": [
              "<Figure size 432x288 with 1 Axes>"
            ]
          },
          "metadata": {
            "tags": [],
            "needs_background": "light"
          }
        }
      ]
    },
    {
      "cell_type": "markdown",
      "metadata": {
        "id": "OMrbj-9WUA9x"
      },
      "source": [
        "# Automatic HPO"
      ]
    },
    {
      "cell_type": "code",
      "metadata": {
        "colab": {
          "base_uri": "https://localhost:8080/",
          "height": 630
        },
        "id": "0G12K_KMFCsm",
        "outputId": "f1938da7-e5ce-43de-a607-077031970be4"
      },
      "source": [
        "#@title Run the HPO Automation\n",
        "runs = 10000\n",
        "best = float(\"inf\")\n",
        "for i in range(runs):\n",
        "  span, history, model, hp_out = train_function(hp, best)\n",
        "  fitness = history[-1].item() \n",
        "  if fitness < best:\n",
        "    best = fitness\n",
        "    clear_output()\n",
        "    print(f\"Fitness {fitness}\")\n",
        "    plt.plot(history)\n",
        "    plt.show()\n",
        "    plt.plot(Xi, yi, 'o', color='black')\n",
        "    y_ = model(torch.Tensor(Xi))\n",
        "    plt.plot(Xi,y_.detach().numpy(), 'r')\n",
        "    plt.show()\n",
        "    print(hp_out)\n"
      ],
      "execution_count": null,
      "outputs": [
        {
          "output_type": "stream",
          "text": [
            "Fitness 0.0007746219635009766\n"
          ],
          "name": "stdout"
        },
        {
          "output_type": "display_data",
          "data": {
            "image/png": "[encoded data removed]",
            "text/plain": [
              "<Figure size 432x288 with 1 Axes>"
            ]
          },
          "metadata": {
            "tags": [],
            "needs_background": "light"
          }
        },
        {
          "output_type": "display_data",
          "data": {
            "image/png": "[encoded data removed]",
            "text/plain": [
              "<Figure size 432x288 with 1 Axes>"
            ]
          },
          "metadata": {
            "tags": [],
            "needs_background": "light"
          }
        },
        {
          "output_type": "stream",
          "text": [
            "epochs = 287\n",
            "middle_layer = 23\n",
            "learning_rate = 0.03478635218404641\n",
            "batch_size = 19\n",
            "\n"
          ],
          "name": "stdout"
        }
      ]
    }
  ]
}